{
 "cells": [
  {
   "cell_type": "markdown",
   "id": "2433b208",
   "metadata": {},
   "source": [
    "# Stock Market Forecasting using News Sentiment Analysis - Validation\n",
    "## @: Nikita Yatchenko Date: 08.05.2022\n",
    "\n",
    "### Given Objective\n",
    "Main goal of this project is to validate or reject the results of Marinus Teunis Bakker's Master's thesis \"Forecasting the Stock Market using News Sentiment Analysis\". The scope of this project includes:\n",
    "1. Validate or disprove the results of the above mentioned thesis, limiting the scopt to two approaches:\n",
    "    - Support Vector Machine (SVM) + Natural Language Processing (NLP) of news using TextBlob - news-only model\n",
    "    - SVM + NLP of news using TetxBlob + Technical Analysis (TA) - news-and-TA-model\n",
    "- For each approach we will report accuracy and confusion matrix\n",
    "2. Provide expert opinion on the original paper, its subject, and its results"
   ]
  },
  {
   "cell_type": "markdown",
   "id": "3883ebee",
   "metadata": {},
   "source": [
    "First, let us define what would qualify as validation of results. In simple terms:\n",
    "1. Research question - we have to have the same inquery regarding the true nature of dependencies\n",
    "2. Data - we use the same information to measure these dependencies\n",
    "3. Methodology - we process said information and model these dependencies in a similar fashion\n",
    "4. Results - we report our findings and compare with the author's ones \n",
    "\n",
    "We shall go one by one and discuss each point in detail.\n",
    "\n",
    "#### 1. Research Question\n",
    "The author's research question is: Can news sentiment data be applied to predict stock market movements? To answer this question he investigated whether news articles sentiment can be used to predict the daily S&P 500 movements.\n",
    "\n",
    "#### 2. Data\n",
    "1. Financial Data:\n",
    "\n",
    "The dataset consists of 1,784 rows and 7 columns. These columns include the high, low, open, close and adjusted close price, volume, and formatted_date fields. The 1,784 rows are unique by the date column and has a time span of 12/31/2012 to 01/31/2020\n",
    "\n",
    "2. News Articles Data:\n",
    "\n",
    "The news article dataset is created by Andrew Thompson. It contains 2.7 million news articles from a variety of news sources. The earliest article is from 2016-01-01; and the latest is from  2020-04-02.\n",
    "\n",
    "#### 3. Methodology\n",
    "The author was trying to build a **model that would successfully predict the price movement (up or down / same) for the current day based on the historical price movements and news sentiment of the current day**. This is a binary classification model, and, as stated in the paper (pp. 13 - 16), there is a multitude of algorithms that achieve just that. However, as stated in the paper, the most promissing results were achieved by utilizing SVM. We shall use SVM too.\n",
    "\n",
    "Stated target variable definition: \"A 1 is assigned if the stock market value went up or remained the same compared to the day before and 0 if the stock market values went down\" (p. 19).\n",
    "\n",
    "#### 4. Statistically significant results\n",
    "It is acceptable to arrive at different point estimates, however, we are not interested in point estimates. We are interested in observing statistically significant relationship between variables that the author claims to be in dependence. Particularly, in this paper the author claims (p. 27): \"The table shows in that in case of only the TextBlob classifier is considered, the SVM achieved an AUC-PR score of 0.63, which improved the baseline score by 18% and 0.67 AUC-ROC score, where the baseline is increased by 17%. Even though, news sentiment in combination with TA achieved a better performance, it can be assumed that news sentiment on its own hold some predictive power regarding the S&P 500 index movements. Based on this conclusion the findings of Ican and Celik (2017) that the stock market can be predicted based on news articles sentiment should be confirmed.\"\n",
    "\n",
    "Therefore, we must check:\n",
    "1. Baseline\n",
    "2. Is news-only-model (TextBlob) SVM's AUC-PR score of 0.63 acceptable?\n",
    "3. Does the inclusion of TextBlob news' sentiment improve the baseline score by 18%?\n",
    "4. Does news-only-model (TextBlob) hold predictive power on its own?\n",
    "5. Does the inclusion of TextBlob's news sentiment improve TA only model? (the author doesn't ask this question, however this is an essential one, as doing better than random is a very low bar to cross)"
   ]
  },
  {
   "cell_type": "markdown",
   "id": "89b30d86",
   "metadata": {},
   "source": [
    "### Executive Summary\n",
    "All in all, after following the paper's methodology to the best out of abilities - **we cannot validate author's conclusions**. Let's walk through the main results (please refer to section 4 for complete table): \n",
    "1. Baseline check: **no** There is a baseline discrepancy - on p. 22 paper's baseline is 0.45 (defined as number of positives divided by total number of entries, which in itself is questionable**) but out baseline is 0.55 (section 2.3)\n",
    "2. Is news-only-model (TextBlob) SVM's AUC-PR score of 0.63 acceptable? **cannot reject** - technically the score of AUC-PR falls in the 95% confidence interval\n",
    "3. Does the inclusion of TextBlob news' sentiment improve the baseline score by 18%? **no** - considering the fact that the baseline's score is wrong we cannot accept that. In addition, it doesn't make sense to talk about 18% increase with point estimates as these results are highly unstable (a recurring problem with this paper) and the author inflates the significance of his results because he essentially equates baseline's accuracy with precision recall auc of 0.45 (defined as number of positives divided by total number of entries, which in itself is questionable**) and compares that number with 0.63 (but doesn't report accuracy for the news only classifier)\n",
    "4. Does news-only-model (TextBlob) hold predictive power on its own? **technically, yes** - the fact that 50% is not in the 95% confidence interval implies that 95% of the time the true accuracy of news only model lies somewhere between 52.3% - 58.3%.\n",
    "5. Does the inclusion of TextBlob's news sentiment improve TA only model? **no** - lastly, we compared the accuracy scores of TA+News and TA-only model. Only to find that 0 is included in both 95% confidence intervals (for accuracy and for precision recall auc). Suggesting that there is no added benefit in including news sentiment to the TA only model.\n",
    "\n",
    "Disucssion re that last point: does this mean that news do not play role in forecasting stock market? No. It is highly plausible that news sentiment does play an important role in predicting stock market moves, but with the current methodology and choice of data this signal proves to be irrelevant, when we take into account TA.\n",
    "\n",
    "\n",
    "Now, when we observe this kind of discrepancy either:\n",
    "1. We made a mistake:\n",
    "    - incorrectly followed author's methodology\n",
    "    - made assumptions that violated author's\n",
    "    - made technical errors\n",
    "2. Author's results are irreproducible:\n",
    "    - omission of key methodological steps\n",
    "    - got lucky / tinkered with random seed (sample selection bias) to achive the desired levels of scores, better than the baseline\n",
    "\n",
    "To the best of our knowledge we didn't commit any major mistakes. In the next section we provide observations and recommendations regarding the paper and further research.\n",
    "\n",
    "** - doesn't make sense to have PR AUC = accuracy"
   ]
  },
  {
   "cell_type": "markdown",
   "id": "b1332abe",
   "metadata": {},
   "source": [
    "## Observations and Recommendations\n",
    "In general, the paper does a poor job with respect to its reporting of the results and methodology setup.\n",
    "1. Reporting of the results (critical)\n",
    "   - A major red flag is the reporting of point-estimates without any margins of error\n",
    "   - Errors in baseline calculations and table descriptions (ex table 3, p. 23 - only PR AUC scores are reported, not ROC AUC)\n",
    "   - Lack of proper justification of precision recall AUC metric choice - almost purposefully focuses on the precision recall auc instead of accuracy; incorrect comparisons with baseline\n",
    "   - Accuracy reporting without a proper baseline (he doesn't explicitly compare TA + News with just TA)\n",
    "   - Absense of any precision / recall discussion for the final model - just a point estimate of a blended metric\n",
    "2. Methodology\n",
    "   - Dataleakage: \n",
    "       - sentiment scores are assembled by taking the mean of the entire 24-hour day. Trading day ends at 4:00pm (excluding extended hours). So if the news comes out past 4:00pm - it has to be adjusted for the next day. Otherwise, we are using information from the future.\n",
    "       - usage of SMA. We have the current price and we have the average of the past 7 days. It is rather clear that having both of these pieces of information is crucial in determinig whether the price **today** went up or down. SMA contains the information about yesterday's price and we have the information about today's price. This in itself already encodes the target variable.\n",
    "   - Financial and business-related sections (critical): \n",
    "       - there is no mention of **how** the author deemed sections to be financial or business related. This is potentially the biggest source of irreproducibility. Because a case could be found where a certain collection of news articles leads to an added accuracy but how reliable is that? We do not know.          \n",
    "3. Model Usability: \n",
    "   - even assuming that we have a working model - the only viable use case for this approach is to **assume** that no major news is going to breakout - then we can estimate with TA whether the market is going to go up or down\n",
    "   - it is also concerning that the author doesn't use the Adjusted Closing prices (it makes no difference in this particular case, but adjusted close prices are pro forma adjusted for stock splits and other events, which make the analysis more stable)\n",
    "\n",
    "\n",
    "To improve the research at question we recommend the following:\n",
    "   - Change the defenition of the dependent variable, or instead of the closing price being the independent variable - use the Open price.\n",
    "   - Clearly define what is financial and business-related news articles is (list of key terms, train a neural net with examples, topic modeling, etc.).\n",
    "   - Add weights to each publication:\n",
    "       - Is CNN's reporting of the same article the same as Seeking Alpha's? If yes, who's opinion matters more? The key assumption of this study is that we are going to capture market sentiment. However including unrelated information or incorrectly interpreting the sentiment only dilutes the true signal. \n",
    "   - Develop a much more finance nuanced sentiment scorer. TextBlob is too general.\n",
    "   - Include time series component of sentiment\n",
    "   - Use intraday prices and only consider signals that are within 3 minutes of the price update\n",
    "   - Drastically improve the quality of results reporting"
   ]
  },
  {
   "cell_type": "markdown",
   "id": "a05a85ec",
   "metadata": {},
   "source": [
    "## 1. Imports"
   ]
  },
  {
   "cell_type": "code",
   "execution_count": 1,
   "id": "972b8a9e",
   "metadata": {},
   "outputs": [],
   "source": [
    "# Data and math\n",
    "import pandas as pd\n",
    "import numpy as np\n",
    "\n",
    "# NLP\n",
    "from textblob import TextBlob\n",
    "\n",
    "# Modeling\n",
    "from sklearn.model_selection import train_test_split\n",
    "from sklearn.preprocessing import StandardScaler\n",
    "from sklearn.pipeline import Pipeline\n",
    "from sklearn.utils import resample\n",
    "from sklearn.model_selection import cross_val_score, GridSearchCV\n",
    "from sklearn import svm\n",
    "from sklearn.metrics import accuracy_score, roc_auc_score, confusion_matrix, make_scorer, auc, precision_recall_curve\n",
    "\n",
    "# visualization\n",
    "import matplotlib.pyplot as plt\n",
    "import seaborn as sns\n",
    "from sklearn.preprocessing import MinMaxScaler\n",
    "from sklearn.decomposition import PCA\n",
    "\n",
    "# utils\n",
    "from pathlib import Path"
   ]
  },
  {
   "cell_type": "markdown",
   "id": "08036093",
   "metadata": {},
   "source": [
    "## 2. Data\n",
    "### 2.1 Financial Data Preprocessing\n",
    "- format dates\n",
    "- add Simple Moving Average (SMA) for future TA use\n",
    "\n",
    "As was mentioned in the paper we will be using SMA as one of the most simple yet effective TA out there. Since we interested in the next day increase or decrease we will be using a sliding window of 10 days (p. 19)."
   ]
  },
  {
   "cell_type": "code",
   "execution_count": 2,
   "id": "082d2629",
   "metadata": {},
   "outputs": [],
   "source": [
    "fin_data_path = Path(r\"data\\YahooFinancials package.xls\")"
   ]
  },
  {
   "cell_type": "code",
   "execution_count": 3,
   "id": "aa5dfe7d",
   "metadata": {},
   "outputs": [],
   "source": [
    "fin_df = pd.read_excel(fin_data_path)"
   ]
  },
  {
   "cell_type": "code",
   "execution_count": 4,
   "id": "c8884d07",
   "metadata": {},
   "outputs": [
    {
     "name": "stdout",
     "output_type": "stream",
     "text": [
      "(1784, 7)\n"
     ]
    },
    {
     "data": {
      "text/html": [
       "<div>\n",
       "<style scoped>\n",
       "    .dataframe tbody tr th:only-of-type {\n",
       "        vertical-align: middle;\n",
       "    }\n",
       "\n",
       "    .dataframe tbody tr th {\n",
       "        vertical-align: top;\n",
       "    }\n",
       "\n",
       "    .dataframe thead th {\n",
       "        text-align: right;\n",
       "    }\n",
       "</style>\n",
       "<table border=\"1\" class=\"dataframe\">\n",
       "  <thead>\n",
       "    <tr style=\"text-align: right;\">\n",
       "      <th></th>\n",
       "      <th>Date</th>\n",
       "      <th>Open</th>\n",
       "      <th>High</th>\n",
       "      <th>Low</th>\n",
       "      <th>Close*</th>\n",
       "      <th>Adj Close**</th>\n",
       "      <th>Volume</th>\n",
       "    </tr>\n",
       "  </thead>\n",
       "  <tbody>\n",
       "    <tr>\n",
       "      <th>0</th>\n",
       "      <td>Jan 31, 2020</td>\n",
       "      <td>3282.33</td>\n",
       "      <td>3282.33</td>\n",
       "      <td>3214.68</td>\n",
       "      <td>3225.52</td>\n",
       "      <td>3225.52</td>\n",
       "      <td>4527830000</td>\n",
       "    </tr>\n",
       "    <tr>\n",
       "      <th>1</th>\n",
       "      <td>Jan 30, 2020</td>\n",
       "      <td>3256.45</td>\n",
       "      <td>3285.91</td>\n",
       "      <td>3242.80</td>\n",
       "      <td>3283.66</td>\n",
       "      <td>3283.66</td>\n",
       "      <td>3787250000</td>\n",
       "    </tr>\n",
       "    <tr>\n",
       "      <th>2</th>\n",
       "      <td>Jan 29, 2020</td>\n",
       "      <td>3289.46</td>\n",
       "      <td>3293.47</td>\n",
       "      <td>3271.89</td>\n",
       "      <td>3273.40</td>\n",
       "      <td>3273.40</td>\n",
       "      <td>3584500000</td>\n",
       "    </tr>\n",
       "    <tr>\n",
       "      <th>3</th>\n",
       "      <td>Jan 28, 2020</td>\n",
       "      <td>3255.35</td>\n",
       "      <td>3285.78</td>\n",
       "      <td>3253.22</td>\n",
       "      <td>3276.24</td>\n",
       "      <td>3276.24</td>\n",
       "      <td>3526720000</td>\n",
       "    </tr>\n",
       "    <tr>\n",
       "      <th>4</th>\n",
       "      <td>Jan 27, 2020</td>\n",
       "      <td>3247.16</td>\n",
       "      <td>3258.85</td>\n",
       "      <td>3234.50</td>\n",
       "      <td>3243.63</td>\n",
       "      <td>3243.63</td>\n",
       "      <td>3823100000</td>\n",
       "    </tr>\n",
       "  </tbody>\n",
       "</table>\n",
       "</div>"
      ],
      "text/plain": [
       "           Date     Open     High      Low   Close*  Adj Close**      Volume\n",
       "0  Jan 31, 2020  3282.33  3282.33  3214.68  3225.52      3225.52  4527830000\n",
       "1  Jan 30, 2020  3256.45  3285.91  3242.80  3283.66      3283.66  3787250000\n",
       "2  Jan 29, 2020  3289.46  3293.47  3271.89  3273.40      3273.40  3584500000\n",
       "3  Jan 28, 2020  3255.35  3285.78  3253.22  3276.24      3276.24  3526720000\n",
       "4  Jan 27, 2020  3247.16  3258.85  3234.50  3243.63      3243.63  3823100000"
      ]
     },
     "execution_count": 4,
     "metadata": {},
     "output_type": "execute_result"
    }
   ],
   "source": [
    "print(fin_df.shape)\n",
    "fin_df.head()"
   ]
  },
  {
   "cell_type": "code",
   "execution_count": 5,
   "id": "9e71d96d",
   "metadata": {},
   "outputs": [],
   "source": [
    "# Reverse dataframe for SMA calculation\n",
    "fin_df = fin_df.iloc[::-1]"
   ]
  },
  {
   "cell_type": "code",
   "execution_count": 6,
   "id": "e8775fb5",
   "metadata": {},
   "outputs": [
    {
     "data": {
      "text/html": [
       "<div>\n",
       "<style scoped>\n",
       "    .dataframe tbody tr th:only-of-type {\n",
       "        vertical-align: middle;\n",
       "    }\n",
       "\n",
       "    .dataframe tbody tr th {\n",
       "        vertical-align: top;\n",
       "    }\n",
       "\n",
       "    .dataframe thead th {\n",
       "        text-align: right;\n",
       "    }\n",
       "</style>\n",
       "<table border=\"1\" class=\"dataframe\">\n",
       "  <thead>\n",
       "    <tr style=\"text-align: right;\">\n",
       "      <th></th>\n",
       "      <th>Date</th>\n",
       "      <th>Open</th>\n",
       "      <th>High</th>\n",
       "      <th>Low</th>\n",
       "      <th>Close*</th>\n",
       "      <th>Adj Close**</th>\n",
       "      <th>Volume</th>\n",
       "    </tr>\n",
       "  </thead>\n",
       "  <tbody>\n",
       "    <tr>\n",
       "      <th>1783</th>\n",
       "      <td>Dec 31, 2012</td>\n",
       "      <td>1402.43</td>\n",
       "      <td>1426.74</td>\n",
       "      <td>1398.11</td>\n",
       "      <td>1426.19</td>\n",
       "      <td>1426.19</td>\n",
       "      <td>3204330000</td>\n",
       "    </tr>\n",
       "    <tr>\n",
       "      <th>1782</th>\n",
       "      <td>Jan 02, 2013</td>\n",
       "      <td>1426.19</td>\n",
       "      <td>1462.43</td>\n",
       "      <td>1426.19</td>\n",
       "      <td>1462.42</td>\n",
       "      <td>1462.42</td>\n",
       "      <td>4202600000</td>\n",
       "    </tr>\n",
       "    <tr>\n",
       "      <th>1781</th>\n",
       "      <td>Jan 03, 2013</td>\n",
       "      <td>1462.42</td>\n",
       "      <td>1465.47</td>\n",
       "      <td>1455.53</td>\n",
       "      <td>1459.37</td>\n",
       "      <td>1459.37</td>\n",
       "      <td>3829730000</td>\n",
       "    </tr>\n",
       "    <tr>\n",
       "      <th>1780</th>\n",
       "      <td>Jan 04, 2013</td>\n",
       "      <td>1459.37</td>\n",
       "      <td>1467.94</td>\n",
       "      <td>1458.99</td>\n",
       "      <td>1466.47</td>\n",
       "      <td>1466.47</td>\n",
       "      <td>3424290000</td>\n",
       "    </tr>\n",
       "    <tr>\n",
       "      <th>1779</th>\n",
       "      <td>Jan 07, 2013</td>\n",
       "      <td>1466.47</td>\n",
       "      <td>1466.47</td>\n",
       "      <td>1456.62</td>\n",
       "      <td>1461.89</td>\n",
       "      <td>1461.89</td>\n",
       "      <td>3304970000</td>\n",
       "    </tr>\n",
       "  </tbody>\n",
       "</table>\n",
       "</div>"
      ],
      "text/plain": [
       "              Date     Open     High      Low   Close*  Adj Close**  \\\n",
       "1783  Dec 31, 2012  1402.43  1426.74  1398.11  1426.19      1426.19   \n",
       "1782  Jan 02, 2013  1426.19  1462.43  1426.19  1462.42      1462.42   \n",
       "1781  Jan 03, 2013  1462.42  1465.47  1455.53  1459.37      1459.37   \n",
       "1780  Jan 04, 2013  1459.37  1467.94  1458.99  1466.47      1466.47   \n",
       "1779  Jan 07, 2013  1466.47  1466.47  1456.62  1461.89      1461.89   \n",
       "\n",
       "          Volume  \n",
       "1783  3204330000  \n",
       "1782  4202600000  \n",
       "1781  3829730000  \n",
       "1780  3424290000  \n",
       "1779  3304970000  "
      ]
     },
     "execution_count": 6,
     "metadata": {},
     "output_type": "execute_result"
    }
   ],
   "source": [
    "fin_df.head()"
   ]
  },
  {
   "cell_type": "code",
   "execution_count": 7,
   "id": "6eb2a5a8",
   "metadata": {},
   "outputs": [
    {
     "name": "stdout",
     "output_type": "stream",
     "text": [
      "<class 'pandas.core.frame.DataFrame'>\n",
      "RangeIndex: 1784 entries, 1783 to 0\n",
      "Data columns (total 7 columns):\n",
      " #   Column       Non-Null Count  Dtype  \n",
      "---  ------       --------------  -----  \n",
      " 0   Date         1784 non-null   object \n",
      " 1   Open         1784 non-null   float64\n",
      " 2   High         1784 non-null   float64\n",
      " 3   Low          1784 non-null   float64\n",
      " 4   Close*       1784 non-null   float64\n",
      " 5   Adj Close**  1784 non-null   float64\n",
      " 6   Volume       1784 non-null   int64  \n",
      "dtypes: float64(5), int64(1), object(1)\n",
      "memory usage: 97.7+ KB\n"
     ]
    }
   ],
   "source": [
    "fin_df.info()"
   ]
  },
  {
   "cell_type": "markdown",
   "id": "45797d36",
   "metadata": {},
   "source": [
    "No missing data"
   ]
  },
  {
   "cell_type": "code",
   "execution_count": 8,
   "id": "9719268e",
   "metadata": {},
   "outputs": [],
   "source": [
    "# converting date to datetime type\n",
    "fin_df.Date = pd.to_datetime(fin_df.Date)"
   ]
  },
  {
   "cell_type": "code",
   "execution_count": 9,
   "id": "5dcacfd1",
   "metadata": {},
   "outputs": [
    {
     "name": "stdout",
     "output_type": "stream",
     "text": [
      "Date range for Financial Data: \n",
      "\n",
      "From 2012-12-31 00:00:00  to  2020-01-31 00:00:00\n"
     ]
    }
   ],
   "source": [
    "print('Date range for Financial Data: \\n\\nFrom', fin_df.Date.min(), ' to ', fin_df.Date.max())"
   ]
  },
  {
   "cell_type": "code",
   "execution_count": 10,
   "id": "32a3a825",
   "metadata": {},
   "outputs": [],
   "source": [
    "# adding SMA - including today's date\n",
    "fin_df['SMA'] = fin_df['Close*'].rolling(window=7).mean()\n",
    "fin_df = fin_df[~fin_df.SMA.isna()]"
   ]
  },
  {
   "cell_type": "code",
   "execution_count": 11,
   "id": "9ae8a0b2",
   "metadata": {},
   "outputs": [
    {
     "data": {
      "text/html": [
       "<div>\n",
       "<style scoped>\n",
       "    .dataframe tbody tr th:only-of-type {\n",
       "        vertical-align: middle;\n",
       "    }\n",
       "\n",
       "    .dataframe tbody tr th {\n",
       "        vertical-align: top;\n",
       "    }\n",
       "\n",
       "    .dataframe thead th {\n",
       "        text-align: right;\n",
       "    }\n",
       "</style>\n",
       "<table border=\"1\" class=\"dataframe\">\n",
       "  <thead>\n",
       "    <tr style=\"text-align: right;\">\n",
       "      <th></th>\n",
       "      <th>Date</th>\n",
       "      <th>Open</th>\n",
       "      <th>High</th>\n",
       "      <th>Low</th>\n",
       "      <th>Close*</th>\n",
       "      <th>Adj Close**</th>\n",
       "      <th>Volume</th>\n",
       "      <th>SMA</th>\n",
       "    </tr>\n",
       "  </thead>\n",
       "  <tbody>\n",
       "    <tr>\n",
       "      <th>1777</th>\n",
       "      <td>2013-01-09</td>\n",
       "      <td>1457.15</td>\n",
       "      <td>1464.73</td>\n",
       "      <td>1457.15</td>\n",
       "      <td>1461.02</td>\n",
       "      <td>1461.02</td>\n",
       "      <td>3674390000</td>\n",
       "      <td>1456.358571</td>\n",
       "    </tr>\n",
       "    <tr>\n",
       "      <th>1776</th>\n",
       "      <td>2013-01-10</td>\n",
       "      <td>1461.02</td>\n",
       "      <td>1472.30</td>\n",
       "      <td>1461.02</td>\n",
       "      <td>1472.12</td>\n",
       "      <td>1472.12</td>\n",
       "      <td>4081840000</td>\n",
       "      <td>1462.920000</td>\n",
       "    </tr>\n",
       "    <tr>\n",
       "      <th>1775</th>\n",
       "      <td>2013-01-11</td>\n",
       "      <td>1472.12</td>\n",
       "      <td>1472.75</td>\n",
       "      <td>1467.58</td>\n",
       "      <td>1472.05</td>\n",
       "      <td>1472.05</td>\n",
       "      <td>3340650000</td>\n",
       "      <td>1464.295714</td>\n",
       "    </tr>\n",
       "    <tr>\n",
       "      <th>1774</th>\n",
       "      <td>2013-01-14</td>\n",
       "      <td>1472.05</td>\n",
       "      <td>1472.05</td>\n",
       "      <td>1465.69</td>\n",
       "      <td>1470.68</td>\n",
       "      <td>1470.68</td>\n",
       "      <td>3003010000</td>\n",
       "      <td>1465.911429</td>\n",
       "    </tr>\n",
       "    <tr>\n",
       "      <th>1773</th>\n",
       "      <td>2013-01-15</td>\n",
       "      <td>1470.67</td>\n",
       "      <td>1473.31</td>\n",
       "      <td>1463.76</td>\n",
       "      <td>1472.34</td>\n",
       "      <td>1472.34</td>\n",
       "      <td>3135350000</td>\n",
       "      <td>1466.750000</td>\n",
       "    </tr>\n",
       "    <tr>\n",
       "      <th>1772</th>\n",
       "      <td>2013-01-16</td>\n",
       "      <td>1472.33</td>\n",
       "      <td>1473.96</td>\n",
       "      <td>1467.60</td>\n",
       "      <td>1472.63</td>\n",
       "      <td>1472.63</td>\n",
       "      <td>3384080000</td>\n",
       "      <td>1468.284286</td>\n",
       "    </tr>\n",
       "    <tr>\n",
       "      <th>1771</th>\n",
       "      <td>2013-01-17</td>\n",
       "      <td>1472.63</td>\n",
       "      <td>1485.16</td>\n",
       "      <td>1472.63</td>\n",
       "      <td>1480.94</td>\n",
       "      <td>1480.94</td>\n",
       "      <td>3706710000</td>\n",
       "      <td>1471.682857</td>\n",
       "    </tr>\n",
       "    <tr>\n",
       "      <th>1770</th>\n",
       "      <td>2013-01-18</td>\n",
       "      <td>1480.95</td>\n",
       "      <td>1485.98</td>\n",
       "      <td>1475.81</td>\n",
       "      <td>1485.98</td>\n",
       "      <td>1485.98</td>\n",
       "      <td>3795740000</td>\n",
       "      <td>1475.248571</td>\n",
       "    </tr>\n",
       "    <tr>\n",
       "      <th>1769</th>\n",
       "      <td>2013-01-22</td>\n",
       "      <td>1485.98</td>\n",
       "      <td>1492.56</td>\n",
       "      <td>1481.16</td>\n",
       "      <td>1492.56</td>\n",
       "      <td>1492.56</td>\n",
       "      <td>3570950000</td>\n",
       "      <td>1478.168571</td>\n",
       "    </tr>\n",
       "    <tr>\n",
       "      <th>1768</th>\n",
       "      <td>2013-01-23</td>\n",
       "      <td>1492.56</td>\n",
       "      <td>1496.13</td>\n",
       "      <td>1489.90</td>\n",
       "      <td>1494.81</td>\n",
       "      <td>1494.81</td>\n",
       "      <td>3552010000</td>\n",
       "      <td>1481.420000</td>\n",
       "    </tr>\n",
       "  </tbody>\n",
       "</table>\n",
       "</div>"
      ],
      "text/plain": [
       "           Date     Open     High      Low   Close*  Adj Close**      Volume  \\\n",
       "1777 2013-01-09  1457.15  1464.73  1457.15  1461.02      1461.02  3674390000   \n",
       "1776 2013-01-10  1461.02  1472.30  1461.02  1472.12      1472.12  4081840000   \n",
       "1775 2013-01-11  1472.12  1472.75  1467.58  1472.05      1472.05  3340650000   \n",
       "1774 2013-01-14  1472.05  1472.05  1465.69  1470.68      1470.68  3003010000   \n",
       "1773 2013-01-15  1470.67  1473.31  1463.76  1472.34      1472.34  3135350000   \n",
       "1772 2013-01-16  1472.33  1473.96  1467.60  1472.63      1472.63  3384080000   \n",
       "1771 2013-01-17  1472.63  1485.16  1472.63  1480.94      1480.94  3706710000   \n",
       "1770 2013-01-18  1480.95  1485.98  1475.81  1485.98      1485.98  3795740000   \n",
       "1769 2013-01-22  1485.98  1492.56  1481.16  1492.56      1492.56  3570950000   \n",
       "1768 2013-01-23  1492.56  1496.13  1489.90  1494.81      1494.81  3552010000   \n",
       "\n",
       "              SMA  \n",
       "1777  1456.358571  \n",
       "1776  1462.920000  \n",
       "1775  1464.295714  \n",
       "1774  1465.911429  \n",
       "1773  1466.750000  \n",
       "1772  1468.284286  \n",
       "1771  1471.682857  \n",
       "1770  1475.248571  \n",
       "1769  1478.168571  \n",
       "1768  1481.420000  "
      ]
     },
     "execution_count": 11,
     "metadata": {},
     "output_type": "execute_result"
    }
   ],
   "source": [
    "fin_df.head(10)"
   ]
  },
  {
   "cell_type": "code",
   "execution_count": 12,
   "id": "6d319fef",
   "metadata": {},
   "outputs": [],
   "source": [
    "# adding the difference column between the next day and the previous - what I original thought the problem was...\n",
    "\n",
    "# fin_df['diff'] = fin_df['Close*'].shift(-1) - fin_df['Close*']\n",
    "# fin_df = fin_df[~fin_df['diff'].isna()]\n",
    "# fin_df.loc[:, 'y'] = 0\n",
    "# fin_df.loc[fin_df.loc[:, 'diff'] >=0, 'y'] = 1"
   ]
  },
  {
   "cell_type": "code",
   "execution_count": 13,
   "id": "14e12f6d",
   "metadata": {},
   "outputs": [
    {
     "data": {
      "text/html": [
       "<div>\n",
       "<style scoped>\n",
       "    .dataframe tbody tr th:only-of-type {\n",
       "        vertical-align: middle;\n",
       "    }\n",
       "\n",
       "    .dataframe tbody tr th {\n",
       "        vertical-align: top;\n",
       "    }\n",
       "\n",
       "    .dataframe thead th {\n",
       "        text-align: right;\n",
       "    }\n",
       "</style>\n",
       "<table border=\"1\" class=\"dataframe\">\n",
       "  <thead>\n",
       "    <tr style=\"text-align: right;\">\n",
       "      <th></th>\n",
       "      <th>Close*</th>\n",
       "      <th>Close*</th>\n",
       "    </tr>\n",
       "  </thead>\n",
       "  <tbody>\n",
       "    <tr>\n",
       "      <th>1777</th>\n",
       "      <td>1461.02</td>\n",
       "      <td>NaN</td>\n",
       "    </tr>\n",
       "    <tr>\n",
       "      <th>1776</th>\n",
       "      <td>1472.12</td>\n",
       "      <td>1461.02</td>\n",
       "    </tr>\n",
       "    <tr>\n",
       "      <th>1775</th>\n",
       "      <td>1472.05</td>\n",
       "      <td>1472.12</td>\n",
       "    </tr>\n",
       "    <tr>\n",
       "      <th>1774</th>\n",
       "      <td>1470.68</td>\n",
       "      <td>1472.05</td>\n",
       "    </tr>\n",
       "    <tr>\n",
       "      <th>1773</th>\n",
       "      <td>1472.34</td>\n",
       "      <td>1470.68</td>\n",
       "    </tr>\n",
       "  </tbody>\n",
       "</table>\n",
       "</div>"
      ],
      "text/plain": [
       "       Close*   Close*\n",
       "1777  1461.02      NaN\n",
       "1776  1472.12  1461.02\n",
       "1775  1472.05  1472.12\n",
       "1774  1470.68  1472.05\n",
       "1773  1472.34  1470.68"
      ]
     },
     "execution_count": 13,
     "metadata": {},
     "output_type": "execute_result"
    }
   ],
   "source": [
    "pd.concat([fin_df['Close*'], fin_df['Close*'].shift(1)],axis=1).head()"
   ]
  },
  {
   "cell_type": "code",
   "execution_count": 14,
   "id": "1f9723f6",
   "metadata": {},
   "outputs": [],
   "source": [
    "# adding the difference column between the current day close and the previous\n",
    "\n",
    "fin_df['diff'] = fin_df['Close*'] - fin_df['Close*'].shift(1)\n",
    "fin_df.loc[:, 'y'] = 0\n",
    "fin_df.loc[fin_df.loc[:, 'diff'] >=0, 'y'] = 1\n",
    "fin_df = fin_df[~fin_df['diff'].isna()]"
   ]
  },
  {
   "cell_type": "code",
   "execution_count": 15,
   "id": "956b828f",
   "metadata": {},
   "outputs": [
    {
     "data": {
      "text/html": [
       "<div>\n",
       "<style scoped>\n",
       "    .dataframe tbody tr th:only-of-type {\n",
       "        vertical-align: middle;\n",
       "    }\n",
       "\n",
       "    .dataframe tbody tr th {\n",
       "        vertical-align: top;\n",
       "    }\n",
       "\n",
       "    .dataframe thead th {\n",
       "        text-align: right;\n",
       "    }\n",
       "</style>\n",
       "<table border=\"1\" class=\"dataframe\">\n",
       "  <thead>\n",
       "    <tr style=\"text-align: right;\">\n",
       "      <th></th>\n",
       "      <th>Date</th>\n",
       "      <th>Open</th>\n",
       "      <th>High</th>\n",
       "      <th>Low</th>\n",
       "      <th>Close*</th>\n",
       "      <th>Adj Close**</th>\n",
       "      <th>Volume</th>\n",
       "      <th>SMA</th>\n",
       "      <th>diff</th>\n",
       "      <th>y</th>\n",
       "    </tr>\n",
       "  </thead>\n",
       "  <tbody>\n",
       "    <tr>\n",
       "      <th>1776</th>\n",
       "      <td>2013-01-10</td>\n",
       "      <td>1461.02</td>\n",
       "      <td>1472.30</td>\n",
       "      <td>1461.02</td>\n",
       "      <td>1472.12</td>\n",
       "      <td>1472.12</td>\n",
       "      <td>4081840000</td>\n",
       "      <td>1462.920000</td>\n",
       "      <td>11.10</td>\n",
       "      <td>1</td>\n",
       "    </tr>\n",
       "    <tr>\n",
       "      <th>1775</th>\n",
       "      <td>2013-01-11</td>\n",
       "      <td>1472.12</td>\n",
       "      <td>1472.75</td>\n",
       "      <td>1467.58</td>\n",
       "      <td>1472.05</td>\n",
       "      <td>1472.05</td>\n",
       "      <td>3340650000</td>\n",
       "      <td>1464.295714</td>\n",
       "      <td>-0.07</td>\n",
       "      <td>0</td>\n",
       "    </tr>\n",
       "    <tr>\n",
       "      <th>1774</th>\n",
       "      <td>2013-01-14</td>\n",
       "      <td>1472.05</td>\n",
       "      <td>1472.05</td>\n",
       "      <td>1465.69</td>\n",
       "      <td>1470.68</td>\n",
       "      <td>1470.68</td>\n",
       "      <td>3003010000</td>\n",
       "      <td>1465.911429</td>\n",
       "      <td>-1.37</td>\n",
       "      <td>0</td>\n",
       "    </tr>\n",
       "    <tr>\n",
       "      <th>1773</th>\n",
       "      <td>2013-01-15</td>\n",
       "      <td>1470.67</td>\n",
       "      <td>1473.31</td>\n",
       "      <td>1463.76</td>\n",
       "      <td>1472.34</td>\n",
       "      <td>1472.34</td>\n",
       "      <td>3135350000</td>\n",
       "      <td>1466.750000</td>\n",
       "      <td>1.66</td>\n",
       "      <td>1</td>\n",
       "    </tr>\n",
       "    <tr>\n",
       "      <th>1772</th>\n",
       "      <td>2013-01-16</td>\n",
       "      <td>1472.33</td>\n",
       "      <td>1473.96</td>\n",
       "      <td>1467.60</td>\n",
       "      <td>1472.63</td>\n",
       "      <td>1472.63</td>\n",
       "      <td>3384080000</td>\n",
       "      <td>1468.284286</td>\n",
       "      <td>0.29</td>\n",
       "      <td>1</td>\n",
       "    </tr>\n",
       "  </tbody>\n",
       "</table>\n",
       "</div>"
      ],
      "text/plain": [
       "           Date     Open     High      Low   Close*  Adj Close**      Volume  \\\n",
       "1776 2013-01-10  1461.02  1472.30  1461.02  1472.12      1472.12  4081840000   \n",
       "1775 2013-01-11  1472.12  1472.75  1467.58  1472.05      1472.05  3340650000   \n",
       "1774 2013-01-14  1472.05  1472.05  1465.69  1470.68      1470.68  3003010000   \n",
       "1773 2013-01-15  1470.67  1473.31  1463.76  1472.34      1472.34  3135350000   \n",
       "1772 2013-01-16  1472.33  1473.96  1467.60  1472.63      1472.63  3384080000   \n",
       "\n",
       "              SMA   diff  y  \n",
       "1776  1462.920000  11.10  1  \n",
       "1775  1464.295714  -0.07  0  \n",
       "1774  1465.911429  -1.37  0  \n",
       "1773  1466.750000   1.66  1  \n",
       "1772  1468.284286   0.29  1  "
      ]
     },
     "execution_count": 15,
     "metadata": {},
     "output_type": "execute_result"
    }
   ],
   "source": [
    "fin_df.head()"
   ]
  },
  {
   "cell_type": "code",
   "execution_count": 16,
   "id": "8706eb8b",
   "metadata": {},
   "outputs": [
    {
     "data": {
      "image/png": "[encoded data removed]",
      "text/plain": [
       "<Figure size 432x288 with 1 Axes>"
      ]
     },
     "metadata": {
      "needs_background": "light"
     },
     "output_type": "display_data"
    }
   ],
   "source": [
    "ups_and_downs = fin_df.y.value_counts()\n",
    "ax = ups_and_downs.plot(kind = 'bar')\n",
    "for p in ax.patches:\n",
    "    ax.annotate(str(p.get_height()), (p.get_x() + 0.2, p.get_height() * 1.005))"
   ]
  },
  {
   "cell_type": "code",
   "execution_count": 17,
   "id": "a913091f",
   "metadata": {},
   "outputs": [
    {
     "name": "stdout",
     "output_type": "stream",
     "text": [
      "1    54.924029\n",
      "0    45.075971\n",
      "Name: y, dtype: float64\n"
     ]
    }
   ],
   "source": [
    "print(ups_and_downs / ups_and_downs.sum() * 100)"
   ]
  },
  {
   "cell_type": "markdown",
   "id": "d61fbb72",
   "metadata": {},
   "source": [
    "Slight disbalance but nothing concerning."
   ]
  },
  {
   "cell_type": "code",
   "execution_count": 18,
   "id": "1df60cab",
   "metadata": {},
   "outputs": [],
   "source": [
    "proc_fin_df = fin_df.dropna()[['Date', 'Close*', 'Volume', 'SMA', 'y']]\n",
    "proc_fin_df.columns = ['Date', 'Price', 'Volume', 'SMA', 'y']"
   ]
  },
  {
   "cell_type": "code",
   "execution_count": 19,
   "id": "3d4448db",
   "metadata": {},
   "outputs": [
    {
     "name": "stdout",
     "output_type": "stream",
     "text": [
      "(1777, 5)\n"
     ]
    },
    {
     "data": {
      "text/html": [
       "<div>\n",
       "<style scoped>\n",
       "    .dataframe tbody tr th:only-of-type {\n",
       "        vertical-align: middle;\n",
       "    }\n",
       "\n",
       "    .dataframe tbody tr th {\n",
       "        vertical-align: top;\n",
       "    }\n",
       "\n",
       "    .dataframe thead th {\n",
       "        text-align: right;\n",
       "    }\n",
       "</style>\n",
       "<table border=\"1\" class=\"dataframe\">\n",
       "  <thead>\n",
       "    <tr style=\"text-align: right;\">\n",
       "      <th></th>\n",
       "      <th>Date</th>\n",
       "      <th>Price</th>\n",
       "      <th>Volume</th>\n",
       "      <th>SMA</th>\n",
       "      <th>y</th>\n",
       "    </tr>\n",
       "  </thead>\n",
       "  <tbody>\n",
       "    <tr>\n",
       "      <th>1776</th>\n",
       "      <td>2013-01-10</td>\n",
       "      <td>1472.12</td>\n",
       "      <td>4081840000</td>\n",
       "      <td>1462.920000</td>\n",
       "      <td>1</td>\n",
       "    </tr>\n",
       "    <tr>\n",
       "      <th>1775</th>\n",
       "      <td>2013-01-11</td>\n",
       "      <td>1472.05</td>\n",
       "      <td>3340650000</td>\n",
       "      <td>1464.295714</td>\n",
       "      <td>0</td>\n",
       "    </tr>\n",
       "    <tr>\n",
       "      <th>1774</th>\n",
       "      <td>2013-01-14</td>\n",
       "      <td>1470.68</td>\n",
       "      <td>3003010000</td>\n",
       "      <td>1465.911429</td>\n",
       "      <td>0</td>\n",
       "    </tr>\n",
       "    <tr>\n",
       "      <th>1773</th>\n",
       "      <td>2013-01-15</td>\n",
       "      <td>1472.34</td>\n",
       "      <td>3135350000</td>\n",
       "      <td>1466.750000</td>\n",
       "      <td>1</td>\n",
       "    </tr>\n",
       "    <tr>\n",
       "      <th>1772</th>\n",
       "      <td>2013-01-16</td>\n",
       "      <td>1472.63</td>\n",
       "      <td>3384080000</td>\n",
       "      <td>1468.284286</td>\n",
       "      <td>1</td>\n",
       "    </tr>\n",
       "  </tbody>\n",
       "</table>\n",
       "</div>"
      ],
      "text/plain": [
       "           Date    Price      Volume          SMA  y\n",
       "1776 2013-01-10  1472.12  4081840000  1462.920000  1\n",
       "1775 2013-01-11  1472.05  3340650000  1464.295714  0\n",
       "1774 2013-01-14  1470.68  3003010000  1465.911429  0\n",
       "1773 2013-01-15  1472.34  3135350000  1466.750000  1\n",
       "1772 2013-01-16  1472.63  3384080000  1468.284286  1"
      ]
     },
     "execution_count": 19,
     "metadata": {},
     "output_type": "execute_result"
    }
   ],
   "source": [
    "print(proc_fin_df.shape)\n",
    "proc_fin_df.head()"
   ]
  },
  {
   "cell_type": "code",
   "execution_count": 20,
   "id": "067cdb78",
   "metadata": {},
   "outputs": [
    {
     "name": "stdout",
     "output_type": "stream",
     "text": [
      "Date range for Processed Financial Data: \n",
      "\n",
      "From 2013-01-10 00:00:00  to  2020-01-31 00:00:00\n"
     ]
    }
   ],
   "source": [
    "print('Date range for Processed Financial Data: \\n\\nFrom', proc_fin_df.Date.min(), ' to ', proc_fin_df.Date.max())"
   ]
  },
  {
   "cell_type": "markdown",
   "id": "8cd2db35",
   "metadata": {},
   "source": [
    "Our final financial dataset has 9 less observations and only four columns: Date, Price, Volume, and SMA10. With y being the dependent variable."
   ]
  },
  {
   "cell_type": "code",
   "execution_count": 21,
   "id": "04dd524e",
   "metadata": {},
   "outputs": [],
   "source": [
    "proc_fin_df.set_index('Date', inplace = True)"
   ]
  },
  {
   "cell_type": "markdown",
   "id": "0054ee41",
   "metadata": {},
   "source": [
    "## 2.2 News Data Processing\n",
    "\n",
    "Note that the total dataset is 8.5 Gb - which is very heavy and time-consuming to load and preprocess. *Note to self: alternatives to pandas; save in hdfs format; less data (?)*\n",
    "\n",
    "1. Following paper's preprocessing (p. 18) we are selecting only important columns: date, title, section, and publication\n",
    "2. Publishers with unknown section columns are replaced with \"unknown\" (p. 19)\n",
    "3. Filter to use **only** financial and business-related section and **separately** all the news articles with unknown sections\n",
    "\n",
    "Turns out most tedious part is to identify which sections are business-related and which ones are not. To bypass this issue (and not to look through all the sections amnually) we are going to gather all financial terms and screen through all sections if they contain at least one financial terms and / or abbreviations.\n",
    "\n",
    "Complications:\n",
    "- depression (how to treat this word)\n",
    "\n",
    "This dataset contains 2,688,878 news articles and essays from 27 American publications, spanning January 1, 2016 to April 2, 2020. **The original paper had news articles had news articles spanning from 2013 through 2020**."
   ]
  },
  {
   "cell_type": "code",
   "execution_count": 22,
   "id": "0c31cea6",
   "metadata": {},
   "outputs": [],
   "source": [
    "news_data_path = Path(r\"data\\all-the-news-2-1.csv\")"
   ]
  },
  {
   "cell_type": "code",
   "execution_count": 23,
   "id": "2ba8879b",
   "metadata": {},
   "outputs": [],
   "source": [
    "news_df = pd.read_csv(news_data_path)"
   ]
  },
  {
   "cell_type": "code",
   "execution_count": 24,
   "id": "e38f0466",
   "metadata": {},
   "outputs": [
    {
     "name": "stdout",
     "output_type": "stream",
     "text": [
      "(2688878, 10)\n"
     ]
    },
    {
     "data": {
      "text/html": [
       "<div>\n",
       "<style scoped>\n",
       "    .dataframe tbody tr th:only-of-type {\n",
       "        vertical-align: middle;\n",
       "    }\n",
       "\n",
       "    .dataframe tbody tr th {\n",
       "        vertical-align: top;\n",
       "    }\n",
       "\n",
       "    .dataframe thead th {\n",
       "        text-align: right;\n",
       "    }\n",
       "</style>\n",
       "<table border=\"1\" class=\"dataframe\">\n",
       "  <thead>\n",
       "    <tr style=\"text-align: right;\">\n",
       "      <th></th>\n",
       "      <th>date</th>\n",
       "      <th>year</th>\n",
       "      <th>month</th>\n",
       "      <th>day</th>\n",
       "      <th>author</th>\n",
       "      <th>title</th>\n",
       "      <th>article</th>\n",
       "      <th>url</th>\n",
       "      <th>section</th>\n",
       "      <th>publication</th>\n",
       "    </tr>\n",
       "  </thead>\n",
       "  <tbody>\n",
       "    <tr>\n",
       "      <th>0</th>\n",
       "      <td>2016-12-09 18:31:00</td>\n",
       "      <td>2016</td>\n",
       "      <td>12.0</td>\n",
       "      <td>9</td>\n",
       "      <td>Lee Drutman</td>\n",
       "      <td>We should take concerns about the health of li...</td>\n",
       "      <td>This post is part of Polyarchy, an independent...</td>\n",
       "      <td>https://www.vox.com/polyarchy/2016/12/9/138983...</td>\n",
       "      <td>NaN</td>\n",
       "      <td>Vox</td>\n",
       "    </tr>\n",
       "    <tr>\n",
       "      <th>1</th>\n",
       "      <td>2016-10-07 21:26:46</td>\n",
       "      <td>2016</td>\n",
       "      <td>10.0</td>\n",
       "      <td>7</td>\n",
       "      <td>Scott Davis</td>\n",
       "      <td>Colts GM Ryan Grigson says Andrew Luck's contr...</td>\n",
       "      <td>The Indianapolis Colts made Andrew Luck the h...</td>\n",
       "      <td>https://www.businessinsider.com/colts-gm-ryan-...</td>\n",
       "      <td>NaN</td>\n",
       "      <td>Business Insider</td>\n",
       "    </tr>\n",
       "    <tr>\n",
       "      <th>2</th>\n",
       "      <td>2018-01-26 00:00:00</td>\n",
       "      <td>2018</td>\n",
       "      <td>1.0</td>\n",
       "      <td>26</td>\n",
       "      <td>NaN</td>\n",
       "      <td>Trump denies report he ordered Mueller fired</td>\n",
       "      <td>DAVOS, Switzerland (Reuters) - U.S. President ...</td>\n",
       "      <td>https://www.reuters.com/article/us-davos-meeti...</td>\n",
       "      <td>Davos</td>\n",
       "      <td>Reuters</td>\n",
       "    </tr>\n",
       "    <tr>\n",
       "      <th>3</th>\n",
       "      <td>2019-06-27 00:00:00</td>\n",
       "      <td>2019</td>\n",
       "      <td>6.0</td>\n",
       "      <td>27</td>\n",
       "      <td>NaN</td>\n",
       "      <td>France's Sarkozy reveals his 'Passions' but in...</td>\n",
       "      <td>PARIS (Reuters) - Former French president Nico...</td>\n",
       "      <td>https://www.reuters.com/article/france-politic...</td>\n",
       "      <td>World News</td>\n",
       "      <td>Reuters</td>\n",
       "    </tr>\n",
       "    <tr>\n",
       "      <th>4</th>\n",
       "      <td>2016-01-27 00:00:00</td>\n",
       "      <td>2016</td>\n",
       "      <td>1.0</td>\n",
       "      <td>27</td>\n",
       "      <td>NaN</td>\n",
       "      <td>Paris Hilton: Woman In Black For Uncle Monty's...</td>\n",
       "      <td>Paris Hilton arrived at LAX Wednesday dressed ...</td>\n",
       "      <td>https://www.tmz.com/2016/01/27/paris-hilton-mo...</td>\n",
       "      <td>NaN</td>\n",
       "      <td>TMZ</td>\n",
       "    </tr>\n",
       "  </tbody>\n",
       "</table>\n",
       "</div>"
      ],
      "text/plain": [
       "                  date  year  month  day       author  \\\n",
       "0  2016-12-09 18:31:00  2016   12.0    9  Lee Drutman   \n",
       "1  2016-10-07 21:26:46  2016   10.0    7  Scott Davis   \n",
       "2  2018-01-26 00:00:00  2018    1.0   26          NaN   \n",
       "3  2019-06-27 00:00:00  2019    6.0   27          NaN   \n",
       "4  2016-01-27 00:00:00  2016    1.0   27          NaN   \n",
       "\n",
       "                                               title  \\\n",
       "0  We should take concerns about the health of li...   \n",
       "1  Colts GM Ryan Grigson says Andrew Luck's contr...   \n",
       "2       Trump denies report he ordered Mueller fired   \n",
       "3  France's Sarkozy reveals his 'Passions' but in...   \n",
       "4  Paris Hilton: Woman In Black For Uncle Monty's...   \n",
       "\n",
       "                                             article  \\\n",
       "0  This post is part of Polyarchy, an independent...   \n",
       "1   The Indianapolis Colts made Andrew Luck the h...   \n",
       "2  DAVOS, Switzerland (Reuters) - U.S. President ...   \n",
       "3  PARIS (Reuters) - Former French president Nico...   \n",
       "4  Paris Hilton arrived at LAX Wednesday dressed ...   \n",
       "\n",
       "                                                 url     section  \\\n",
       "0  https://www.vox.com/polyarchy/2016/12/9/138983...         NaN   \n",
       "1  https://www.businessinsider.com/colts-gm-ryan-...         NaN   \n",
       "2  https://www.reuters.com/article/us-davos-meeti...       Davos   \n",
       "3  https://www.reuters.com/article/france-politic...  World News   \n",
       "4  https://www.tmz.com/2016/01/27/paris-hilton-mo...         NaN   \n",
       "\n",
       "        publication  \n",
       "0               Vox  \n",
       "1  Business Insider  \n",
       "2           Reuters  \n",
       "3           Reuters  \n",
       "4               TMZ  "
      ]
     },
     "execution_count": 24,
     "metadata": {},
     "output_type": "execute_result"
    }
   ],
   "source": [
    "print(news_df.shape)\n",
    "news_df.head()"
   ]
  },
  {
   "cell_type": "code",
   "execution_count": 25,
   "id": "a4c110bd",
   "metadata": {},
   "outputs": [],
   "source": [
    "# date, title, section, and publication\n",
    "proc_news_df = news_df[['date', 'title', 'section', 'publication']]"
   ]
  },
  {
   "cell_type": "code",
   "execution_count": 26,
   "id": "2b6782a9",
   "metadata": {},
   "outputs": [],
   "source": [
    "pd.options.mode.chained_assignment = None # switch off the warnings for this particular assignment\n",
    "proc_news_df.loc[proc_news_df.section.isna(), 'section'] = 'unknown'"
   ]
  },
  {
   "cell_type": "code",
   "execution_count": 27,
   "id": "b3a8af54",
   "metadata": {},
   "outputs": [],
   "source": [
    "proc_news_df.loc[:,'date'] = pd.to_datetime(proc_news_df.date)\n",
    "proc_news_df.loc[:,'date'] = proc_news_df.date.dt.date"
   ]
  },
  {
   "cell_type": "code",
   "execution_count": 28,
   "id": "d3394dd6",
   "metadata": {},
   "outputs": [
    {
     "data": {
      "text/plain": [
       "0          We should take concerns about the health of li...\n",
       "1          Colts GM Ryan Grigson says Andrew Luck's contr...\n",
       "2               Trump denies report he ordered Mueller fired\n",
       "3          France's Sarkozy reveals his 'Passions' but in...\n",
       "4          Paris Hilton: Woman In Black For Uncle Monty's...\n",
       "                                 ...                        \n",
       "2688873    Florida Ammo Selling Out On Heels of Stay-At-H...\n",
       "2688874    Disney Forcing Annual Pass Holders to Continue...\n",
       "2688875    Nick Cannon Pimps Out His Impala with Custom N...\n",
       "2688876    Pete Buttigieg Says Governors Showing More Lea...\n",
       "2688877    Ruth Bader Ginsburg Still Working Out with Tra...\n",
       "Name: title, Length: 2688878, dtype: object"
      ]
     },
     "execution_count": 28,
     "metadata": {},
     "output_type": "execute_result"
    }
   ],
   "source": [
    "proc_news_df.title"
   ]
  },
  {
   "cell_type": "code",
   "execution_count": 29,
   "id": "ff4900a1",
   "metadata": {},
   "outputs": [],
   "source": [
    "# get sentiment\n",
    "def find_pol(text):\n",
    "    if not type(text) is str:\n",
    "        return np.nan\n",
    "    return TextBlob(text).sentiment.polarity"
   ]
  },
  {
   "cell_type": "code",
   "execution_count": 30,
   "id": "75764f88",
   "metadata": {},
   "outputs": [],
   "source": [
    "proc_news_df.loc[:, 'sentiment'] = proc_news_df.title.apply(lambda x: find_pol(x))"
   ]
  },
  {
   "cell_type": "code",
   "execution_count": 44,
   "id": "e236582c",
   "metadata": {},
   "outputs": [
    {
     "data": {
      "text/html": [
       "<div>\n",
       "<style scoped>\n",
       "    .dataframe tbody tr th:only-of-type {\n",
       "        vertical-align: middle;\n",
       "    }\n",
       "\n",
       "    .dataframe tbody tr th {\n",
       "        vertical-align: top;\n",
       "    }\n",
       "\n",
       "    .dataframe thead th {\n",
       "        text-align: right;\n",
       "    }\n",
       "</style>\n",
       "<table border=\"1\" class=\"dataframe\">\n",
       "  <thead>\n",
       "    <tr style=\"text-align: right;\">\n",
       "      <th></th>\n",
       "      <th>date</th>\n",
       "      <th>title</th>\n",
       "      <th>section</th>\n",
       "      <th>publication</th>\n",
       "      <th>sentiment</th>\n",
       "    </tr>\n",
       "  </thead>\n",
       "  <tbody>\n",
       "    <tr>\n",
       "      <th>0</th>\n",
       "      <td>2016-12-09</td>\n",
       "      <td>We should take concerns about the health of li...</td>\n",
       "      <td>unknown</td>\n",
       "      <td>Vox</td>\n",
       "      <td>-0.333333</td>\n",
       "    </tr>\n",
       "    <tr>\n",
       "      <th>1</th>\n",
       "      <td>2016-10-07</td>\n",
       "      <td>Colts GM Ryan Grigson says Andrew Luck's contr...</td>\n",
       "      <td>unknown</td>\n",
       "      <td>Business Insider</td>\n",
       "      <td>-0.500000</td>\n",
       "    </tr>\n",
       "    <tr>\n",
       "      <th>2</th>\n",
       "      <td>2018-01-26</td>\n",
       "      <td>Trump denies report he ordered Mueller fired</td>\n",
       "      <td>Davos</td>\n",
       "      <td>Reuters</td>\n",
       "      <td>0.000000</td>\n",
       "    </tr>\n",
       "    <tr>\n",
       "      <th>3</th>\n",
       "      <td>2019-06-27</td>\n",
       "      <td>France's Sarkozy reveals his 'Passions' but in...</td>\n",
       "      <td>World News</td>\n",
       "      <td>Reuters</td>\n",
       "      <td>0.000000</td>\n",
       "    </tr>\n",
       "    <tr>\n",
       "      <th>4</th>\n",
       "      <td>2016-01-27</td>\n",
       "      <td>Paris Hilton: Woman In Black For Uncle Monty's...</td>\n",
       "      <td>unknown</td>\n",
       "      <td>TMZ</td>\n",
       "      <td>-0.166667</td>\n",
       "    </tr>\n",
       "  </tbody>\n",
       "</table>\n",
       "</div>"
      ],
      "text/plain": [
       "         date                                              title     section  \\\n",
       "0  2016-12-09  We should take concerns about the health of li...     unknown   \n",
       "1  2016-10-07  Colts GM Ryan Grigson says Andrew Luck's contr...     unknown   \n",
       "2  2018-01-26       Trump denies report he ordered Mueller fired       Davos   \n",
       "3  2019-06-27  France's Sarkozy reveals his 'Passions' but in...  World News   \n",
       "4  2016-01-27  Paris Hilton: Woman In Black For Uncle Monty's...     unknown   \n",
       "\n",
       "        publication  sentiment  \n",
       "0               Vox  -0.333333  \n",
       "1  Business Insider  -0.500000  \n",
       "2           Reuters   0.000000  \n",
       "3           Reuters   0.000000  \n",
       "4               TMZ  -0.166667  "
      ]
     },
     "execution_count": 44,
     "metadata": {},
     "output_type": "execute_result"
    }
   ],
   "source": [
    "proc_news_df.head()"
   ]
  },
  {
   "cell_type": "code",
   "execution_count": 45,
   "id": "9dbe9a62",
   "metadata": {},
   "outputs": [
    {
     "data": {
      "text/plain": [
       "date            object\n",
       "title           object\n",
       "section         object\n",
       "publication     object\n",
       "sentiment      float64\n",
       "dtype: object"
      ]
     },
     "execution_count": 45,
     "metadata": {},
     "output_type": "execute_result"
    }
   ],
   "source": [
    "proc_news_df.dtypes"
   ]
  },
  {
   "cell_type": "code",
   "execution_count": 46,
   "id": "e57e43e7",
   "metadata": {},
   "outputs": [],
   "source": [
    "proc_news_df = proc_news_df[~proc_news_df.title.isna()]"
   ]
  },
  {
   "cell_type": "code",
   "execution_count": 47,
   "id": "e0647bd8",
   "metadata": {},
   "outputs": [
    {
     "data": {
      "text/plain": [
       "2688841"
      ]
     },
     "execution_count": 47,
     "metadata": {},
     "output_type": "execute_result"
    }
   ],
   "source": [
    "proc_news_df.shape[0]"
   ]
  },
  {
   "cell_type": "code",
   "execution_count": 48,
   "id": "e997a89c",
   "metadata": {},
   "outputs": [],
   "source": [
    "group_all_news_sent = proc_news_df.groupby('date')['sentiment'].mean()"
   ]
  },
  {
   "cell_type": "code",
   "execution_count": 49,
   "id": "173c2786",
   "metadata": {},
   "outputs": [
    {
     "data": {
      "text/plain": [
       "<AxesSubplot:xlabel='date'>"
      ]
     },
     "execution_count": 49,
     "metadata": {},
     "output_type": "execute_result"
    },
    {
     "data": {
      "image/png": "[encoded data removed]",
      "text/plain": [
       "<Figure size 432x288 with 1 Axes>"
      ]
     },
     "metadata": {
      "needs_background": "light"
     },
     "output_type": "display_data"
    }
   ],
   "source": [
    "group_all_news_sent.plot()"
   ]
  },
  {
   "cell_type": "markdown",
   "id": "7690189a",
   "metadata": {},
   "source": [
    "A little strange that there is not a single dat with an average negative sentiment score."
   ]
  },
  {
   "cell_type": "code",
   "execution_count": 50,
   "id": "cff528a2",
   "metadata": {},
   "outputs": [
    {
     "name": "stdout",
     "output_type": "stream",
     "text": [
      "Date range for Processed News Data: \n",
      "\n",
      "From 2016-01-01  to  2020-04-02\n"
     ]
    }
   ],
   "source": [
    "print('Date range for Processed News Data: \\n\\nFrom', group_all_news_sent.index.min(), ' to ', group_all_news_sent.index.max())"
   ]
  },
  {
   "cell_type": "markdown",
   "id": "2d28b6d3",
   "metadata": {},
   "source": [
    "## 2.2.1 Subset of financial news\n",
    "The paper doesn't go into detail how the authoer selected financial / business related sections. Main questions are what is business news? Is Aesrospace & Defense business news? What about Marketing news? These questions are both hard to asnwer definitively and the answer is dependent on the methodology. In my opinion, if an industry has a big impact on the market - yes, it should be included.\n",
    "\n",
    "The apporach we are taking is looking throguh top unique sections that make up more than 90% of total articles and including all terms that are finance and business-related. We then use these terms to look through all the sections."
   ]
  },
  {
   "cell_type": "code",
   "execution_count": 51,
   "id": "504557b7",
   "metadata": {},
   "outputs": [],
   "source": [
    "all_section_analysis = proc_news_df.section.value_counts()"
   ]
  },
  {
   "cell_type": "code",
   "execution_count": 52,
   "id": "45ed774e",
   "metadata": {},
   "outputs": [],
   "source": [
    "unique_sections = proc_news_df.section.unique().tolist()"
   ]
  },
  {
   "cell_type": "code",
   "execution_count": 53,
   "id": "61bcd88b",
   "metadata": {},
   "outputs": [
    {
     "data": {
      "text/plain": [
       "0.8902482519420077"
      ]
     },
     "execution_count": 53,
     "metadata": {},
     "output_type": "execute_result"
    }
   ],
   "source": [
    "all_section_analysis[:100].sum() / all_section_analysis.sum()"
   ]
  },
  {
   "cell_type": "markdown",
   "id": "d52a1660",
   "metadata": {},
   "source": [
    "So if we look through the top 100 sections we will get 90% of all the articles. Nonethe less we are going to look through the 1000."
   ]
  },
  {
   "cell_type": "code",
   "execution_count": 54,
   "id": "6901e21a",
   "metadata": {},
   "outputs": [
    {
     "data": {
      "text/plain": [
       "array(['unknown', 'Market News', 'World News', 'Business News', 'Wires',\n",
       "       'Financials', 'politics', 'us', 'Intel', 'Bonds News'],\n",
       "      dtype='<U13')"
      ]
     },
     "execution_count": 54,
     "metadata": {},
     "output_type": "execute_result"
    }
   ],
   "source": [
    "# look through top 100 popular sections to  make sure we got all financial & business terms\n",
    "\n",
    "np.array(all_section_analysis[:100].index.tolist()[0:10]) # first 10 not to spam"
   ]
  },
  {
   "cell_type": "markdown",
   "id": "75b7fa0b",
   "metadata": {},
   "source": [
    "Based on the above we accumulated a list of unique financial words (roots / significant part of a word) that *if* present will qualify for a business / business-related section"
   ]
  },
  {
   "cell_type": "code",
   "execution_count": 55,
   "id": "b6b2018f",
   "metadata": {},
   "outputs": [],
   "source": [
    "unique_fin_bus_terms = [\n",
    "    'fina', 'busine', 'bond', 'fund', 'equities', 'equity', 'market', 'stock', 'bank', 'deal', 'industr', \n",
    "    'hedge', 'arbitra', 'econ', 'ipo', 'press release', 'invest',  'account', 'debt', 'loan',\n",
    "    'rate', 'reserve', 'option', 'futures', 'commodit', 'insider', 'etf', 'cpi',\n",
    "    'budget', 'buyback', 'corp', 'merge', 'acquis', 'inflation', 'depression', 'enterpr', 'tax', 'portfolio', 'capital',\n",
    "    'compan', 'execut', 'annual', 'consumer', 'tech', 'energy', 'wealth', 'ionaire', 'money', 'pension', 'reit', \n",
    "    'profit', 'nomics', 'buy', 'rich', 'alpha', 'income', 'trust', 'intel', 'goog', 'wire', 'labor', 'labour'\n",
    "]\n",
    "\n",
    "exchange = ['dollar', 'coin', 'crypto', 'pound', 'currency', 'exchange', 'yuan', 'euro']\n",
    "\n",
    "secondary_fin_terms = ['aerosp', 'job', 'davos', 'brexit', 'services', 'manufact', ]"
   ]
  },
  {
   "cell_type": "code",
   "execution_count": 56,
   "id": "1f453999",
   "metadata": {},
   "outputs": [],
   "source": [
    "def fin_bus_present(section, terms):\n",
    "    '''\n",
    "    function identifies if a section contains terms that identify it as financial / business-related\n",
    "    input:\n",
    "        - section: a string\n",
    "        - terms: list of financial / b-r significant parts of terms\n",
    "    output:\n",
    "        - section if any of the above terms are present (nothing if not)\n",
    "    '''\n",
    "    \n",
    "    if not type(section) is str or '-' in section: return None\n",
    "    section_proc = section.lower()\n",
    "    for term in terms:\n",
    "        if term in section_proc:\n",
    "            return section"
   ]
  },
  {
   "cell_type": "code",
   "execution_count": 57,
   "id": "04cd0257",
   "metadata": {},
   "outputs": [],
   "source": [
    "sections = proc_news_df.section.unique()\n",
    "bus_fin_sections = []\n",
    "for section in sections:\n",
    "    fin_bus = fin_bus_present(section, unique_fin_bus_terms + exchange + secondary_fin_terms)\n",
    "    if fin_bus is not None: bus_fin_sections.append(fin_bus)\n",
    "    else: continue"
   ]
  },
  {
   "cell_type": "code",
   "execution_count": 58,
   "id": "9105b8ac",
   "metadata": {},
   "outputs": [
    {
     "data": {
      "text/plain": [
       "365"
      ]
     },
     "execution_count": 58,
     "metadata": {},
     "output_type": "execute_result"
    }
   ],
   "source": [
    "len(bus_fin_sections)"
   ]
  },
  {
   "cell_type": "markdown",
   "id": "085dd6ba",
   "metadata": {},
   "source": [
    "a total of 365 unnique sections are somewhat finance and / or business related - less than 10% of total unique sections"
   ]
  },
  {
   "cell_type": "code",
   "execution_count": 59,
   "id": "070d313d",
   "metadata": {},
   "outputs": [],
   "source": [
    "mask = proc_news_df.section.isin(bus_fin_sections)"
   ]
  },
  {
   "cell_type": "code",
   "execution_count": 60,
   "id": "2255df97",
   "metadata": {},
   "outputs": [
    {
     "data": {
      "text/html": [
       "<div>\n",
       "<style scoped>\n",
       "    .dataframe tbody tr th:only-of-type {\n",
       "        vertical-align: middle;\n",
       "    }\n",
       "\n",
       "    .dataframe tbody tr th {\n",
       "        vertical-align: top;\n",
       "    }\n",
       "\n",
       "    .dataframe thead th {\n",
       "        text-align: right;\n",
       "    }\n",
       "</style>\n",
       "<table border=\"1\" class=\"dataframe\">\n",
       "  <thead>\n",
       "    <tr style=\"text-align: right;\">\n",
       "      <th></th>\n",
       "      <th>date</th>\n",
       "      <th>title</th>\n",
       "      <th>section</th>\n",
       "      <th>publication</th>\n",
       "      <th>sentiment</th>\n",
       "    </tr>\n",
       "  </thead>\n",
       "  <tbody>\n",
       "    <tr>\n",
       "      <th>2</th>\n",
       "      <td>2018-01-26</td>\n",
       "      <td>Trump denies report he ordered Mueller fired</td>\n",
       "      <td>Davos</td>\n",
       "      <td>Reuters</td>\n",
       "      <td>0.0</td>\n",
       "    </tr>\n",
       "    <tr>\n",
       "      <th>5</th>\n",
       "      <td>2019-06-17</td>\n",
       "      <td>ECB's Coeure: If we decide to cut rates, we'd ...</td>\n",
       "      <td>Financials</td>\n",
       "      <td>Reuters</td>\n",
       "      <td>0.0</td>\n",
       "    </tr>\n",
       "    <tr>\n",
       "      <th>11</th>\n",
       "      <td>2019-06-23</td>\n",
       "      <td>Hudson's Bay's chairman's buyout bid pits reta...</td>\n",
       "      <td>Business News</td>\n",
       "      <td>Reuters</td>\n",
       "      <td>0.2</td>\n",
       "    </tr>\n",
       "    <tr>\n",
       "      <th>22</th>\n",
       "      <td>2018-12-28</td>\n",
       "      <td>Wells Fargo to pay $575 million in settlement ...</td>\n",
       "      <td>Business News</td>\n",
       "      <td>Reuters</td>\n",
       "      <td>0.0</td>\n",
       "    </tr>\n",
       "    <tr>\n",
       "      <th>24</th>\n",
       "      <td>2019-05-21</td>\n",
       "      <td>Factbox: Investments by automakers in the U.S....</td>\n",
       "      <td>Business News</td>\n",
       "      <td>Reuters</td>\n",
       "      <td>0.0</td>\n",
       "    </tr>\n",
       "  </tbody>\n",
       "</table>\n",
       "</div>"
      ],
      "text/plain": [
       "          date                                              title  \\\n",
       "2   2018-01-26       Trump denies report he ordered Mueller fired   \n",
       "5   2019-06-17  ECB's Coeure: If we decide to cut rates, we'd ...   \n",
       "11  2019-06-23  Hudson's Bay's chairman's buyout bid pits reta...   \n",
       "22  2018-12-28  Wells Fargo to pay $575 million in settlement ...   \n",
       "24  2019-05-21  Factbox: Investments by automakers in the U.S....   \n",
       "\n",
       "          section publication  sentiment  \n",
       "2           Davos     Reuters        0.0  \n",
       "5      Financials     Reuters        0.0  \n",
       "11  Business News     Reuters        0.2  \n",
       "22  Business News     Reuters        0.0  \n",
       "24  Business News     Reuters        0.0  "
      ]
     },
     "execution_count": 60,
     "metadata": {},
     "output_type": "execute_result"
    }
   ],
   "source": [
    "proc_fin_news_df = proc_news_df[mask]\n",
    "proc_fin_news_df.head()"
   ]
  },
  {
   "cell_type": "code",
   "execution_count": 63,
   "id": "69b12a77",
   "metadata": {},
   "outputs": [
    {
     "data": {
      "text/plain": [
       "0.9121251850285474"
      ]
     },
     "execution_count": 63,
     "metadata": {},
     "output_type": "execute_result"
    }
   ],
   "source": [
    "section_analysis = proc_fin_news_df.section.value_counts()\n",
    "sum(section_analysis[0:30] / section_analysis.sum())"
   ]
  },
  {
   "cell_type": "code",
   "execution_count": 65,
   "id": "eaafc9ba",
   "metadata": {},
   "outputs": [
    {
     "data": {
      "text/plain": [
       "array(['Market News', 'Business News', 'Wires', 'Financials', 'Intel',\n",
       "       'Bonds News', 'Consumer Goods and Retail', 'business', 'Tech',\n",
       "       'Commodities', 'Deals', 'Tech by VICE', 'Technology News',\n",
       "       'Company News', 'Energy', 'Funds News', 'Cyclical Consumer Goods',\n",
       "       'Brexit', 'IT Services & Consulting', 'Industrials', 'Markets',\n",
       "       'Market Insider', 'Google', 'Wealth', 'Hot Stocks',\n",
       "       'Switzerland Market Report', 'Davos', 'technology', 'Investing',\n",
       "       'Chinese Labor Unrest'], dtype=object)"
      ]
     },
     "execution_count": 65,
     "metadata": {},
     "output_type": "execute_result"
    }
   ],
   "source": [
    "np.array(section_analysis[0:30].index)"
   ]
  },
  {
   "cell_type": "markdown",
   "id": "e2ee6fd6",
   "metadata": {},
   "source": [
    "Top 30 sections are all financials and comprise 90% of all articles chosen for financial and business related. THerefore, it is acceptable to use these articles as our main basis for financial and business related news."
   ]
  },
  {
   "cell_type": "code",
   "execution_count": 66,
   "id": "7afe6ec4",
   "metadata": {},
   "outputs": [],
   "source": [
    "group_fin_news_sent = proc_fin_news_df.groupby('date')['sentiment'].mean()"
   ]
  },
  {
   "cell_type": "code",
   "execution_count": 67,
   "id": "d3831854",
   "metadata": {},
   "outputs": [
    {
     "data": {
      "text/html": [
       "<div>\n",
       "<style scoped>\n",
       "    .dataframe tbody tr th:only-of-type {\n",
       "        vertical-align: middle;\n",
       "    }\n",
       "\n",
       "    .dataframe tbody tr th {\n",
       "        vertical-align: top;\n",
       "    }\n",
       "\n",
       "    .dataframe thead th {\n",
       "        text-align: right;\n",
       "    }\n",
       "</style>\n",
       "<table border=\"1\" class=\"dataframe\">\n",
       "  <thead>\n",
       "    <tr style=\"text-align: right;\">\n",
       "      <th></th>\n",
       "      <th>sentiment</th>\n",
       "      <th>sentiment</th>\n",
       "    </tr>\n",
       "    <tr>\n",
       "      <th>date</th>\n",
       "      <th></th>\n",
       "      <th></th>\n",
       "    </tr>\n",
       "  </thead>\n",
       "  <tbody>\n",
       "    <tr>\n",
       "      <th>2016-01-01</th>\n",
       "      <td>0.067362</td>\n",
       "      <td>0.030200</td>\n",
       "    </tr>\n",
       "    <tr>\n",
       "      <th>2016-01-02</th>\n",
       "      <td>0.047316</td>\n",
       "      <td>0.062336</td>\n",
       "    </tr>\n",
       "    <tr>\n",
       "      <th>2016-01-03</th>\n",
       "      <td>0.022663</td>\n",
       "      <td>-0.011691</td>\n",
       "    </tr>\n",
       "    <tr>\n",
       "      <th>2016-01-04</th>\n",
       "      <td>0.042950</td>\n",
       "      <td>0.012770</td>\n",
       "    </tr>\n",
       "    <tr>\n",
       "      <th>2016-01-05</th>\n",
       "      <td>0.047019</td>\n",
       "      <td>0.042992</td>\n",
       "    </tr>\n",
       "    <tr>\n",
       "      <th>...</th>\n",
       "      <td>...</td>\n",
       "      <td>...</td>\n",
       "    </tr>\n",
       "    <tr>\n",
       "      <th>2020-03-29</th>\n",
       "      <td>0.042033</td>\n",
       "      <td>0.042206</td>\n",
       "    </tr>\n",
       "    <tr>\n",
       "      <th>2020-03-30</th>\n",
       "      <td>0.059045</td>\n",
       "      <td>0.024842</td>\n",
       "    </tr>\n",
       "    <tr>\n",
       "      <th>2020-03-31</th>\n",
       "      <td>0.050988</td>\n",
       "      <td>0.025788</td>\n",
       "    </tr>\n",
       "    <tr>\n",
       "      <th>2020-04-01</th>\n",
       "      <td>0.021371</td>\n",
       "      <td>0.184343</td>\n",
       "    </tr>\n",
       "    <tr>\n",
       "      <th>2020-04-02</th>\n",
       "      <td>0.000000</td>\n",
       "      <td>NaN</td>\n",
       "    </tr>\n",
       "  </tbody>\n",
       "</table>\n",
       "<p>1554 rows × 2 columns</p>\n",
       "</div>"
      ],
      "text/plain": [
       "            sentiment  sentiment\n",
       "date                            \n",
       "2016-01-01   0.067362   0.030200\n",
       "2016-01-02   0.047316   0.062336\n",
       "2016-01-03   0.022663  -0.011691\n",
       "2016-01-04   0.042950   0.012770\n",
       "2016-01-05   0.047019   0.042992\n",
       "...               ...        ...\n",
       "2020-03-29   0.042033   0.042206\n",
       "2020-03-30   0.059045   0.024842\n",
       "2020-03-31   0.050988   0.025788\n",
       "2020-04-01   0.021371   0.184343\n",
       "2020-04-02   0.000000        NaN\n",
       "\n",
       "[1554 rows x 2 columns]"
      ]
     },
     "execution_count": 67,
     "metadata": {},
     "output_type": "execute_result"
    }
   ],
   "source": [
    "pd.concat([group_all_news_sent, group_fin_news_sent], axis = 1)"
   ]
  },
  {
   "cell_type": "code",
   "execution_count": 68,
   "id": "1a4e1489",
   "metadata": {},
   "outputs": [
    {
     "data": {
      "text/plain": [
       "<AxesSubplot:xlabel='date'>"
      ]
     },
     "execution_count": 68,
     "metadata": {},
     "output_type": "execute_result"
    },
    {
     "data": {
      "image/png": "[encoded data removed]",
      "text/plain": [
       "<Figure size 432x288 with 1 Axes>"
      ]
     },
     "metadata": {
      "needs_background": "light"
     },
     "output_type": "display_data"
    }
   ],
   "source": [
    "group_fin_news_sent.plot()"
   ]
  },
  {
   "cell_type": "markdown",
   "id": "79836450",
   "metadata": {},
   "source": [
    "Just like with the general news sentiment average - we have general inclination towards positive sentiment."
   ]
  },
  {
   "cell_type": "code",
   "execution_count": 69,
   "id": "552ed3e4",
   "metadata": {},
   "outputs": [
    {
     "name": "stdout",
     "output_type": "stream",
     "text": [
      "Date range for Processed News Data: \n",
      "\n",
      "From 2016-01-01  to  2020-04-01\n"
     ]
    }
   ],
   "source": [
    "print('Date range for Processed News Data: \\n\\nFrom', group_fin_news_sent.index.min(), ' to ', group_fin_news_sent.index.max())"
   ]
  },
  {
   "cell_type": "markdown",
   "id": "cb7bd63a",
   "metadata": {},
   "source": [
    "## 2.2.2 News Dataset Discussion\n",
    "One of the main critiques of using a general sentiment score - is how vague and unspecific it is. For example - new re interest rate cuts is generally a net positive on the stock valuations (market seems to go up). However, as shown below - the sentiment is neutral. Makes more sense to use a more financially tuned sentiment."
   ]
  },
  {
   "cell_type": "code",
   "execution_count": 70,
   "id": "d5b68101",
   "metadata": {},
   "outputs": [
    {
     "name": "stdout",
     "output_type": "stream",
     "text": [
      "ECB's Coeure: If we decide to cut rates, we'd have to consider tiering\n",
      "sentiment:  0.0\n"
     ]
    }
   ],
   "source": [
    "print(proc_fin_news_df.iloc[1].title)\n",
    "print('sentiment: ', proc_fin_news_df.iloc[1].sentiment)"
   ]
  },
  {
   "cell_type": "markdown",
   "id": "dbf3f192",
   "metadata": {},
   "source": [
    "## 2.3 Train, Validation and Test Data Preparation and Discussion\n",
    "A vital process for fine modeling is tran, validation, and test data preparation. Using general best practices (same as in the paper) we will split the datset into 80% train and 20% test. Usually, when working with time series we do not apply randomization (random selection of samples) since there is an inherent structure of the time series that we want to preserve. However, this is not really a times series modeling exercise - this is classification, so here we can use randomization.\n",
    "\n",
    "First, we **must** be on the lookout for data leakage. \n",
    "1. SMA. Does it tell us anything about the future? No, it doesn't, as it looks backwards. **However**, our dependent variable is looking backwards and when we combine Close price of today and the fact that the previous Close is included in the SMA - we have data leakage (something the paper doesn't address).\n",
    "2. Another place where the leakage could occur is the time zone difference between the news article release and the stock price record. \n",
    "\n",
    "We proceed under the assumption that there is no data leakage for the purposes of validating results - however **further testing and dataset validation are advised**."
   ]
  },
  {
   "cell_type": "code",
   "execution_count": 71,
   "id": "df0e6150",
   "metadata": {},
   "outputs": [],
   "source": [
    "total_df = proc_fin_df.merge(right = group_fin_news_sent, how = 'left', left_index = True, right_index = True)\n",
    "total_df = total_df[['Price','Volume','SMA','sentiment','y']]"
   ]
  },
  {
   "cell_type": "code",
   "execution_count": 72,
   "id": "26ce41f8",
   "metadata": {},
   "outputs": [
    {
     "data": {
      "text/plain": [
       "750"
      ]
     },
     "execution_count": 72,
     "metadata": {},
     "output_type": "execute_result"
    }
   ],
   "source": [
    "total_df.isna().sum(axis = 1).sum()"
   ]
  },
  {
   "cell_type": "code",
   "execution_count": 73,
   "id": "5f964431",
   "metadata": {},
   "outputs": [],
   "source": [
    "# subseting data to have news sentiment for every day (news dataset's range start on 01-01-2016)\n",
    "avail_total_df = total_df[total_df.index >= '2016-01-01']"
   ]
  },
  {
   "cell_type": "code",
   "execution_count": 75,
   "id": "81cd05fa",
   "metadata": {},
   "outputs": [
    {
     "data": {
      "text/plain": [
       "0"
      ]
     },
     "execution_count": 75,
     "metadata": {},
     "output_type": "execute_result"
    }
   ],
   "source": [
    "avail_total_df.isna().sum(axis = 1).sum() # no na's after 2016"
   ]
  },
  {
   "cell_type": "code",
   "execution_count": 170,
   "id": "680eacae",
   "metadata": {},
   "outputs": [
    {
     "data": {
      "image/png": "[encoded data removed]",
      "text/plain": [
       "<Figure size 720x360 with 1 Axes>"
      ]
     },
     "metadata": {
      "needs_background": "light"
     },
     "output_type": "display_data"
    }
   ],
   "source": [
    "fig, ax = plt.subplots(figsize = (10,5))\n",
    "\n",
    "x = avail_total_df.index\n",
    "y1 = (avail_total_df['Price'] - avail_total_df['Price'].mean())/avail_total_df['Price'].std()\n",
    "y2 = (avail_total_df['sentiment'] - avail_total_df['sentiment'].mean())/avail_total_df['sentiment'].std()\n",
    "\n",
    "ax.plot(x, y1, 'g-', label = 'close price')\n",
    "ax.plot(x, y2, 'b-', alpha = 0.5, label = 'avg sentiment')\n",
    "ax.legend()\n",
    "plt.title('Standarized Close Price with Avg Sentiment Daily')\n",
    "plt.show()"
   ]
  },
  {
   "cell_type": "markdown",
   "id": "ae574645",
   "metadata": {},
   "source": [
    "Interestingly enough, we can somewhat see a relationship between close crice and the average sentiment. This is not the research quesion (as we are not finding dependance between sentiment and the close price per se)."
   ]
  },
  {
   "cell_type": "code",
   "execution_count": 76,
   "id": "ed3bad50",
   "metadata": {},
   "outputs": [],
   "source": [
    "X = avail_total_df.iloc[:, :-1]\n",
    "y = avail_total_df.iloc[:, -1]"
   ]
  },
  {
   "cell_type": "code",
   "execution_count": 77,
   "id": "0e7422c0",
   "metadata": {},
   "outputs": [
    {
     "data": {
      "image/png": "[encoded data removed]",
      "text/plain": [
       "<Figure size 1080x288 with 1 Axes>"
      ]
     },
     "metadata": {
      "needs_background": "light"
     },
     "output_type": "display_data"
    }
   ],
   "source": [
    "# Quick datavis\n",
    "pca = PCA(n_components=2)\n",
    "\n",
    "def scale(data):\n",
    "    sc = StandardScaler()\n",
    "    data = sc.fit_transform(data)\n",
    "    return data\n",
    "\n",
    "principalComponents = pca.fit_transform(scale(X))\n",
    "y_pca = y.values.ravel()\n",
    "\n",
    "fig, ax = plt.subplots(figsize = (15,4))\n",
    "ax.set_xlabel('Principal Component 1', fontsize = 15)\n",
    "ax.set_ylabel('Principal Component 2', fontsize = 15)\n",
    "ax.set_title('2 component PCA', fontsize = 20)\n",
    "\n",
    "alpha = 0.5\n",
    "ax.scatter(principalComponents[y_pca == 0, 0], principalComponents[y_pca == 0, 1], s = 100, c = 'red', label = 'Down', alpha = alpha)\n",
    "ax.scatter(principalComponents[y_pca == 1, 0], principalComponents[y_pca == 1, 1], s = 100, c = 'green', label = 'Up', alpha = alpha)\n",
    "ax.grid()\n",
    "ax.legend()\n",
    "plt.show()"
   ]
  },
  {
   "cell_type": "markdown",
   "id": "7fb9c5dc",
   "metadata": {},
   "source": [
    "PCA doesn't look too promising - no easy way to see any data separation, patterns or clusters"
   ]
  },
  {
   "cell_type": "code",
   "execution_count": 78,
   "id": "726cbfa8",
   "metadata": {},
   "outputs": [
    {
     "data": {
      "image/png": "[encoded data removed]",
      "text/plain": [
       "<Figure size 432x288 with 1 Axes>"
      ]
     },
     "metadata": {
      "needs_background": "light"
     },
     "output_type": "display_data"
    }
   ],
   "source": [
    "ups_and_downs = y.value_counts()\n",
    "ax = ups_and_downs.plot(kind = 'bar')\n",
    "for p in ax.patches:\n",
    "    ax.annotate(str(p.get_height()), (p.get_x() + 0.2, p.get_height() * 1.005))"
   ]
  },
  {
   "cell_type": "code",
   "execution_count": 82,
   "id": "702a1274",
   "metadata": {},
   "outputs": [
    {
     "name": "stdout",
     "output_type": "stream",
     "text": [
      "1    55.4\n",
      "0    44.6\n",
      "Name: y, dtype: float64\n"
     ]
    }
   ],
   "source": [
    "print(round((ups_and_downs / ups_and_downs.sum() * 100), 2))"
   ]
  },
  {
   "cell_type": "markdown",
   "id": "cf6d53ec",
   "metadata": {},
   "source": [
    "Again, slight disbalance, nothing too concerning. The author of the original paper addresses this issue by optimizing for the ROC-AUC (p. 22). \n",
    "\n",
    "One issue that I found was that the paper claims that the dataset contained 589 observations of 0's and 480 observations of 1's (p. 22). We almost have the opposite in our dataset. This is concerning - **potentially** a mistake in the paper.\n",
    "\n",
    "Author's claim:"
   ]
  },
  {
   "cell_type": "code",
   "execution_count": 87,
   "id": "7e353d4a",
   "metadata": {},
   "outputs": [
    {
     "name": "stdout",
     "output_type": "stream",
     "text": [
      "proportion of 1's:  44.9\n"
     ]
    }
   ],
   "source": [
    "print(\"proportion of 1's: \", str(round(480/(589+480) * 100, 2)))"
   ]
  },
  {
   "cell_type": "markdown",
   "id": "5e51eb5d",
   "metadata": {},
   "source": [
    "No missing values since 2016"
   ]
  },
  {
   "cell_type": "code",
   "execution_count": 88,
   "id": "ef3fe1cd",
   "metadata": {},
   "outputs": [],
   "source": [
    "X_path = Path(r\"data\\X.csv\")\n",
    "X.to_csv(X_path)\n",
    "\n",
    "y_path = Path(r\"data\\y.csv\")\n",
    "y.to_csv(y_path)"
   ]
  },
  {
   "cell_type": "code",
   "execution_count": 89,
   "id": "d3efdcfe",
   "metadata": {},
   "outputs": [],
   "source": [
    "X_path = Path(r\"data\\X.csv\")\n",
    "X = pd.read_csv(X_path)\n",
    "X.set_index('Date', inplace = True)\n",
    "\n",
    "y_path = Path(r\"data\\y.csv\")\n",
    "y = pd.read_csv(y_path)\n",
    "y.set_index('Date', inplace = True)"
   ]
  },
  {
   "cell_type": "code",
   "execution_count": 90,
   "id": "3f492961",
   "metadata": {},
   "outputs": [],
   "source": [
    "data = X.merge(y, left_index = True, right_index = True)"
   ]
  },
  {
   "cell_type": "code",
   "execution_count": 91,
   "id": "8eb5313b",
   "metadata": {},
   "outputs": [
    {
     "data": {
      "text/html": [
       "<div>\n",
       "<style scoped>\n",
       "    .dataframe tbody tr th:only-of-type {\n",
       "        vertical-align: middle;\n",
       "    }\n",
       "\n",
       "    .dataframe tbody tr th {\n",
       "        vertical-align: top;\n",
       "    }\n",
       "\n",
       "    .dataframe thead th {\n",
       "        text-align: right;\n",
       "    }\n",
       "</style>\n",
       "<table border=\"1\" class=\"dataframe\">\n",
       "  <thead>\n",
       "    <tr style=\"text-align: right;\">\n",
       "      <th></th>\n",
       "      <th>Price</th>\n",
       "      <th>Volume</th>\n",
       "      <th>SMA</th>\n",
       "      <th>sentiment</th>\n",
       "      <th>y</th>\n",
       "    </tr>\n",
       "    <tr>\n",
       "      <th>Date</th>\n",
       "      <th></th>\n",
       "      <th></th>\n",
       "      <th></th>\n",
       "      <th></th>\n",
       "      <th></th>\n",
       "    </tr>\n",
       "  </thead>\n",
       "  <tbody>\n",
       "    <tr>\n",
       "      <th>2016-01-04</th>\n",
       "      <td>2012.66</td>\n",
       "      <td>4304880000</td>\n",
       "      <td>2054.300000</td>\n",
       "      <td>0.012770</td>\n",
       "      <td>0</td>\n",
       "    </tr>\n",
       "    <tr>\n",
       "      <th>2016-01-05</th>\n",
       "      <td>2016.71</td>\n",
       "      <td>3706620000</td>\n",
       "      <td>2047.502857</td>\n",
       "      <td>0.042992</td>\n",
       "      <td>1</td>\n",
       "    </tr>\n",
       "    <tr>\n",
       "      <th>2016-01-06</th>\n",
       "      <td>1990.26</td>\n",
       "      <td>4336660000</td>\n",
       "      <td>2037.398571</td>\n",
       "      <td>0.027809</td>\n",
       "      <td>0</td>\n",
       "    </tr>\n",
       "    <tr>\n",
       "      <th>2016-01-07</th>\n",
       "      <td>1943.09</td>\n",
       "      <td>5076590000</td>\n",
       "      <td>2021.197143</td>\n",
       "      <td>0.017907</td>\n",
       "      <td>0</td>\n",
       "    </tr>\n",
       "    <tr>\n",
       "      <th>2016-01-08</th>\n",
       "      <td>1922.03</td>\n",
       "      <td>4664940000</td>\n",
       "      <td>1998.864286</td>\n",
       "      <td>0.021539</td>\n",
       "      <td>0</td>\n",
       "    </tr>\n",
       "  </tbody>\n",
       "</table>\n",
       "</div>"
      ],
      "text/plain": [
       "              Price      Volume          SMA  sentiment  y\n",
       "Date                                                      \n",
       "2016-01-04  2012.66  4304880000  2054.300000   0.012770  0\n",
       "2016-01-05  2016.71  3706620000  2047.502857   0.042992  1\n",
       "2016-01-06  1990.26  4336660000  2037.398571   0.027809  0\n",
       "2016-01-07  1943.09  5076590000  2021.197143   0.017907  0\n",
       "2016-01-08  1922.03  4664940000  1998.864286   0.021539  0"
      ]
     },
     "execution_count": 91,
     "metadata": {},
     "output_type": "execute_result"
    }
   ],
   "source": [
    "data.head()"
   ]
  },
  {
   "cell_type": "code",
   "execution_count": 92,
   "id": "5f4e943e",
   "metadata": {},
   "outputs": [
    {
     "data": {
      "text/html": [
       "<div>\n",
       "<style scoped>\n",
       "    .dataframe tbody tr th:only-of-type {\n",
       "        vertical-align: middle;\n",
       "    }\n",
       "\n",
       "    .dataframe tbody tr th {\n",
       "        vertical-align: top;\n",
       "    }\n",
       "\n",
       "    .dataframe thead th {\n",
       "        text-align: right;\n",
       "    }\n",
       "</style>\n",
       "<table border=\"1\" class=\"dataframe\">\n",
       "  <thead>\n",
       "    <tr style=\"text-align: right;\">\n",
       "      <th></th>\n",
       "      <th>Price</th>\n",
       "      <th>Volume</th>\n",
       "      <th>SMA</th>\n",
       "      <th>sentiment</th>\n",
       "      <th>y</th>\n",
       "    </tr>\n",
       "    <tr>\n",
       "      <th>Date</th>\n",
       "      <th></th>\n",
       "      <th></th>\n",
       "      <th></th>\n",
       "      <th></th>\n",
       "      <th></th>\n",
       "    </tr>\n",
       "  </thead>\n",
       "  <tbody>\n",
       "    <tr>\n",
       "      <th>2016-01-04</th>\n",
       "      <td>2012.66</td>\n",
       "      <td>4304880000</td>\n",
       "      <td>2054.300000</td>\n",
       "      <td>0.012770</td>\n",
       "      <td>0</td>\n",
       "    </tr>\n",
       "    <tr>\n",
       "      <th>2016-01-05</th>\n",
       "      <td>2016.71</td>\n",
       "      <td>3706620000</td>\n",
       "      <td>2047.502857</td>\n",
       "      <td>0.042992</td>\n",
       "      <td>1</td>\n",
       "    </tr>\n",
       "    <tr>\n",
       "      <th>2016-01-06</th>\n",
       "      <td>1990.26</td>\n",
       "      <td>4336660000</td>\n",
       "      <td>2037.398571</td>\n",
       "      <td>0.027809</td>\n",
       "      <td>0</td>\n",
       "    </tr>\n",
       "    <tr>\n",
       "      <th>2016-01-07</th>\n",
       "      <td>1943.09</td>\n",
       "      <td>5076590000</td>\n",
       "      <td>2021.197143</td>\n",
       "      <td>0.017907</td>\n",
       "      <td>0</td>\n",
       "    </tr>\n",
       "    <tr>\n",
       "      <th>2016-01-08</th>\n",
       "      <td>1922.03</td>\n",
       "      <td>4664940000</td>\n",
       "      <td>1998.864286</td>\n",
       "      <td>0.021539</td>\n",
       "      <td>0</td>\n",
       "    </tr>\n",
       "  </tbody>\n",
       "</table>\n",
       "</div>"
      ],
      "text/plain": [
       "              Price      Volume          SMA  sentiment  y\n",
       "Date                                                      \n",
       "2016-01-04  2012.66  4304880000  2054.300000   0.012770  0\n",
       "2016-01-05  2016.71  3706620000  2047.502857   0.042992  1\n",
       "2016-01-06  1990.26  4336660000  2037.398571   0.027809  0\n",
       "2016-01-07  1943.09  5076590000  2021.197143   0.017907  0\n",
       "2016-01-08  1922.03  4664940000  1998.864286   0.021539  0"
      ]
     },
     "execution_count": 92,
     "metadata": {},
     "output_type": "execute_result"
    }
   ],
   "source": [
    "data.head()"
   ]
  },
  {
   "cell_type": "code",
   "execution_count": 93,
   "id": "b8c694de",
   "metadata": {},
   "outputs": [],
   "source": [
    "X_train, X_test, y_train, y_test = train_test_split(X, y, test_size=0.2, random_state = 101, stratify = y, shuffle = True)"
   ]
  },
  {
   "cell_type": "code",
   "execution_count": 94,
   "id": "5347e92d",
   "metadata": {},
   "outputs": [
    {
     "data": {
      "text/plain": [
       "(821, 4)"
      ]
     },
     "execution_count": 94,
     "metadata": {},
     "output_type": "execute_result"
    }
   ],
   "source": [
    "X_train.shape"
   ]
  },
  {
   "cell_type": "markdown",
   "id": "e0cdf800",
   "metadata": {},
   "source": [
    "## 3. Model\n",
    "In all cases we use SVM. It is also our task to determine optimal hyperparameters.\n",
    "\n",
    "Section 3.0 - training baseline models - TA and only News SVM models. \n",
    "\n",
    "Section 3.1 - News + TA\n",
    "\n",
    "\n",
    "### Tuning\n",
    "Throughout each section we are going to perform hyperparameter tuning. In the paper's section 4.2.3 the author outlines a very high-level approach to hyperparameter tuning. The only thing we know for certain is that he utilized the grid search method - meaning he looped through all combinations of hyperparameters. We do not exactly know which combinations he tried. The only piece of information we have is the most optimal combination of hyperparameters. Therefore, we are going to expand the universe of possible parameters by a lot.\n",
    "\n",
    "On p.20 the author referred us to a stratifed 10-fold cross-validation - therefore when tuning we will use just that.\n",
    "\n",
    "Below we package hyperparameter process into a function so that we repeat the same process for each scenario and maintain the same approach throughout.\n",
    "\n",
    "### Scoring\n",
    "Another point of contention with the paper is the use of ROC AUC and PR AUC for SVM. SVM doesn't output probabilities (they can with an expensive additional cross validation procedure) - therefore, it is strange for him to include this discussion without specifying how he obtained those probabilities and, therefore, the trade-off between precision and recall. How would one achieve a trade-off - what are we varying when implementing SVM? Typically, it is a threshold for probabilities (binary classification) - but in the case of SVM - what is it? How does the author calculate the metric? Lastly, why even bother with this metric? Benefits of using precision-recall auc:\n",
    "- when the data is heavily disbalanced\n",
    "- you care about positve class more than the negative (but we do care about the negative class)\n",
    "\n",
    "We are going to assume that PR_AUC is calculated from a decision function by varying the distance from the separating hyperplane required to be 0 or 1. Below we have created a custom scorer that does just that."
   ]
  },
  {
   "cell_type": "code",
   "execution_count": 95,
   "id": "03f0a767",
   "metadata": {},
   "outputs": [],
   "source": [
    "balance = 'balanced' # None"
   ]
  },
  {
   "cell_type": "code",
   "execution_count": 96,
   "id": "64e499e0",
   "metadata": {},
   "outputs": [],
   "source": [
    "def custom_pr_re_scorer(classifier, X, y):\n",
    "    '''\n",
    "    Custom scorer for the model training, computer score is the AUC of the Precision Recall Curve\n",
    "    inputs:\n",
    "        - classifier: trianing / trained binary classifier model\n",
    "        - X: independent varibles in array format (ideally)\n",
    "        - y: dependent variable in array format (ideally)\n",
    "    outputs:\n",
    "        - clf_pr_re_auc: Precision Recall AUC Metric    \n",
    "    '''\n",
    "    y_score = classifier.decision_function(X)\n",
    "    clf_precision, clf_recall, _ = precision_recall_curve(y, y_score)\n",
    "    clf_pr_re_auc = auc(clf_recall, clf_precision)\n",
    "\n",
    "    return clf_pr_re_auc"
   ]
  },
  {
   "cell_type": "code",
   "execution_count": 97,
   "id": "c154b3cb",
   "metadata": {},
   "outputs": [],
   "source": [
    "def hyper_tuning_SVM(X_train, y_train, X_test, y_test, params, scaling = True):\n",
    "    '''\n",
    "    Hyperparamter tuning for SVM models\n",
    "    inputs:\n",
    "        - X_train - training IV dataset\n",
    "        - y_train - training dependent variable\n",
    "        - X_test - testing IV dataset\n",
    "        - y_test - testing dependent variable\n",
    "        - params - a dictionary of hyperparameters to cross validate on\n",
    "        - scaling - True / False - whether we need to scale training and testing data (defaullt True)\n",
    "    output:\n",
    "        - result: a dictionary with optimized_svm, train accuracy, train precision recall auc, test accuracy, test precision recall auc,\n",
    "        confusion matrix (numpy array), best score - trained precision recall auc (to check), best parameters\n",
    "    '''\n",
    "    if scaling:\n",
    "        train_scaler = StandardScaler()\n",
    "        train_scaler.fit(X_train) \n",
    "\n",
    "        X_train_sc = train_scaler.transform(X_train)\n",
    "        X_test_sc = train_scaler.transform(X_test)\n",
    "    else:\n",
    "        X_train_sc = X_train\n",
    "        X_test_sc = X_test\n",
    "        \n",
    "    svm_model = svm.SVC(class_weight = balance)\n",
    "\n",
    "    clf = GridSearchCV(svm_model, params, scoring = custom_pr_re_scorer, cv = 10, verbose = 1, refit = True)\n",
    "    clf.fit(X_train_sc, y_train.values.ravel())\n",
    "\n",
    "    best_score = clf.best_score_\n",
    "\n",
    "    best_params = clf.best_params_\n",
    "\n",
    "    y_pred = clf.predict(X_test_sc)\n",
    "    cm=confusion_matrix(y_test,y_pred)\n",
    "    cm = cm / cm.sum(axis=1)[:, None] * 100\n",
    "\n",
    "    train_accuracy = accuracy_score(y_train,clf.predict(X_train_sc))\n",
    "    train_pr_re_auc = custom_pr_re_scorer(clf, X_train_sc, y_train)\n",
    "    \n",
    "    test_accuracy = accuracy_score(y_test, clf.predict(X_test_sc))\n",
    "    test_pr_re_auc = custom_pr_re_scorer(clf, X_test_sc, y_test)\n",
    "    \n",
    "    result = {\n",
    "        'optimized_svm': clf,\n",
    "        'train_acc': train_accuracy,\n",
    "        'train_pr_re_auc': train_pr_re_auc,\n",
    "        'test_acc': test_accuracy,\n",
    "        'test_pr_re_auc': test_pr_re_auc,\n",
    "        'confusion_matrix': cm,\n",
    "        'best_score': best_score,\n",
    "        'best_params': best_params,\n",
    "             }\n",
    "    \n",
    "    return result"
   ]
  },
  {
   "cell_type": "code",
   "execution_count": 98,
   "id": "f00b4deb",
   "metadata": {},
   "outputs": [],
   "source": [
    "def print_cm(cm):\n",
    "    '''\n",
    "    Prints confusion matrix\n",
    "    input:\n",
    "        - cm: numpy array of confusion matrix output\n",
    "    '''\n",
    "    df_cm = pd.DataFrame(cm, index = [0,1], columns = [0,1])\n",
    "    plt.figure(figsize = (5,3))\n",
    "    sns.heatmap(df_cm, annot=True, fmt='.1f')\n",
    "    plt.ylabel('True label')\n",
    "    plt.xlabel('Predicted label')"
   ]
  },
  {
   "cell_type": "code",
   "execution_count": 99,
   "id": "af959ae3",
   "metadata": {},
   "outputs": [],
   "source": [
    "param_grid = [\n",
    "        {'C': [1, 10, 100, 1000, 1500], 'gamma': [0.1, 0.01, 0.001], 'kernel': ['rbf']},\n",
    "        {'C': [1, 10, 100, 1000, 1500], 'kernel': ['linear'], 'gamma': [1]}, # gamma is a filler - does nothing\n",
    "        {'C': [1, 10, 100, 1000], 'degree': [3, 4, 5], 'gamma': [0.1, 0.01, 0.001], 'kernel': ['poly']},\n",
    "        {'C': [1, 10, 100, 1000], 'gamma': [0.1, 0.01, 0.001], 'kernel': ['sigmoid']},\n",
    "     ]"
   ]
  },
  {
   "cell_type": "markdown",
   "id": "a79363c1",
   "metadata": {},
   "source": [
    "Bootstraping. To evaluate whether what we are achieve differs significantly from what the author published we are going to perform hythopesis teting with bootstraping.\n",
    "\n",
    "Bootstraping procedure that we use:\n",
    "1. Going to repeat resampling 1,000 times\n",
    "2. Sample 50% of data\n",
    "3. Train a model with our parameters and the parameters from the paper\n",
    "4. Report corresponding confidence interval and evaluate whether author's reported scores lie within the interval"
   ]
  },
  {
   "cell_type": "code",
   "execution_count": 101,
   "id": "37d1d412",
   "metadata": {},
   "outputs": [],
   "source": [
    "boot_n_iters = 1000 # how many times we are oging to perform bootstraping\n",
    "alpha = 0.95 # critical value\n",
    "updates_every = 100 # prints out that the calculations are not frozen\n",
    "n_size_prop = 0.5 # proportion of dataset used for model training - rest is for the OOB CV score\n",
    "\n",
    "# generate random seeds for bootstrap reproducibility\n",
    "arr = np.arange(10000)\n",
    "np.random.seed(18)\n",
    "np.random.shuffle(arr)\n",
    "pseudo_random_numbers = arr[(6000 - boot_n_iters):6000] "
   ]
  },
  {
   "cell_type": "code",
   "execution_count": 102,
   "id": "6e083271",
   "metadata": {},
   "outputs": [
    {
     "data": {
      "text/plain": [
       "1000"
      ]
     },
     "execution_count": 102,
     "metadata": {},
     "output_type": "execute_result"
    }
   ],
   "source": [
    "len(pseudo_random_numbers)"
   ]
  },
  {
   "cell_type": "code",
   "execution_count": 104,
   "id": "59d78879",
   "metadata": {},
   "outputs": [],
   "source": [
    "def bootstrap_ci(n_iters, svm_params, selected_data, n_size_prop = 0.5, alpha = 0.95, updates_every = 10):\n",
    "    '''\n",
    "        inputs:\n",
    "            - n_inters: number of bootstrap iterations\n",
    "            - svm_params: parameters for svm model\n",
    "            - selected_data: data to train\n",
    "            - n_size_prop: size of train sample\n",
    "            - alpha: confidence level critical values\n",
    "            - updates_every: print out progress every\n",
    "        output:\n",
    "            - results - list of metrics, confidence interval for each metric (we have two: accuracy and precision recall auc)\n",
    "    '''\n",
    "    # configure bootstrap\n",
    "    n_size = int(len(data) * n_size_prop)\n",
    "    # run bootstrap\n",
    "    stats_pr_re_auc = list()\n",
    "    stats_accuracy = list()\n",
    "    for i in range(n_iters):\n",
    "        # know where we are in the process\n",
    "        if i % updates_every == 0:\n",
    "            print(i, end='\\r', flush=True)\n",
    "        \n",
    "        # prepare train and test sets\n",
    "        train = resample(selected_data.values, n_samples=n_size, random_state = pseudo_random_numbers[i])\n",
    "        test = np.array([x for x in selected_data.values if x.tolist() not in train.tolist()])\n",
    "        \n",
    "        # fit model\n",
    "        X_boot_tr = train[:,:-1]\n",
    "        y_boot_tr = train[:,-1]\n",
    "\n",
    "        X_boot_tst = test[:,:-1]\n",
    "        y_boot_tst = test[:,-1]\n",
    "\n",
    "        train_scaler = StandardScaler()\n",
    "        train_scaler.fit(X_boot_tr) \n",
    "\n",
    "        X_boot_tr_sc = train_scaler.transform(X_boot_tr)\n",
    "        X_boot_tst_sc = train_scaler.transform(X_boot_tst)\n",
    "\n",
    "        svm_model = svm.SVC(kernel = svm_params['kernel'], \n",
    "                            C = svm_params['C'], \n",
    "                            gamma = svm_params['gamma'], \n",
    "                            class_weight = balance,\n",
    "                           ) # class_weight = 'balanced'\n",
    "        svm_model.fit(X_boot_tr_sc, y_boot_tr)\n",
    "\n",
    "        # evaluate model\n",
    "        predictions = svm_model.predict(X_boot_tst_sc)\n",
    "        accuracy = accuracy_score(y_boot_tst, predictions)\n",
    "        pr_re_auc = custom_pr_re_scorer(svm_model, X_boot_tst_sc, y_boot_tst)\n",
    "        \n",
    "        stats_accuracy.append(accuracy)\n",
    "        stats_pr_re_auc.append(pr_re_auc)\n",
    "        \n",
    "    \n",
    "    # confidence intervals accuracy\n",
    "    p = ((1.0-alpha)/2.0) * 100\n",
    "    acc_lower = max(0.0, np.percentile(stats_accuracy, p))\n",
    "    p = (alpha+((1.0-alpha)/2.0)) * 100\n",
    "    acc_upper = min(1.0, np.percentile(stats_accuracy, p))\n",
    "    \n",
    "    # confidence intervals precision recall auc\n",
    "    p = ((1.0-alpha)/2.0) * 100\n",
    "    pr_re_auc_lower = max(0.0, np.percentile(stats_pr_re_auc, p))\n",
    "    p = (alpha+((1.0-alpha)/2.0)) * 100\n",
    "    pr_re_auc_upper = min(1.0, np.percentile(stats_pr_re_auc, p))\n",
    "    \n",
    "    results = {'accuracy_stats': stats_accuracy, \n",
    "               'accuracy_conf_int': [acc_lower, acc_upper],\n",
    "               'precision_recall_auc_stats': stats_pr_re_auc, \n",
    "               'precision_recall_auc_conf_int': [pr_re_auc_lower, pr_re_auc_upper],\n",
    "              }\n",
    "    \n",
    "    return results"
   ]
  },
  {
   "cell_type": "code",
   "execution_count": 106,
   "id": "815eca31",
   "metadata": {},
   "outputs": [],
   "source": [
    "def plot_scores(boot_dict):\n",
    "    '''\n",
    "    Plots metrics' distributions\n",
    "    '''\n",
    "    \n",
    "    fig, axes = plt.subplots(nrows=1, ncols=2, figsize=(15, 3))\n",
    "    \n",
    "    axes[0].hist(boot_dict['accuracy_stats'])\n",
    "    lower = boot_dict['accuracy_conf_int'][0]\n",
    "    upper = boot_dict['accuracy_conf_int'][1]\n",
    "    axes[0].set_title('Accuracy %.1f confidence interval %.1f%% and %.1f%%' % (alpha*100, lower*100, upper*100))\n",
    "    \n",
    "    axes[1].hist(boot_dict['precision_recall_auc_stats'])\n",
    "    lower = boot_dict['precision_recall_auc_conf_int'][0]\n",
    "    upper = boot_dict['precision_recall_auc_conf_int'][1]\n",
    "    axes[1].set_title('Precision Recall AUC %.1f confidence interval %.1f%% and %.1f%%' % (alpha*100, lower*100, upper*100))\n",
    "    \n",
    "    fig.tight_layout()\n",
    "\n",
    "    plt.show()"
   ]
  },
  {
   "cell_type": "markdown",
   "id": "9b778b73",
   "metadata": {},
   "source": [
    "### 3.0 Baselines (TA, News) - SVM Model\n",
    "- 3.0.1 section covers only technical analysis model\n",
    "- 3.0.2 section covers only news sentiment model"
   ]
  },
  {
   "cell_type": "markdown",
   "id": "9d6bca45",
   "metadata": {},
   "source": [
    "### 3.0.1 Baseline TA - SVM Model"
   ]
  },
  {
   "cell_type": "code",
   "execution_count": 107,
   "id": "4ac3da90",
   "metadata": {},
   "outputs": [
    {
     "data": {
      "text/plain": [
       "Index(['Price', 'Volume', 'SMA', 'sentiment'], dtype='object')"
      ]
     },
     "execution_count": 107,
     "metadata": {},
     "output_type": "execute_result"
    }
   ],
   "source": [
    "X.columns"
   ]
  },
  {
   "cell_type": "code",
   "execution_count": 108,
   "id": "8b882993",
   "metadata": {},
   "outputs": [
    {
     "name": "stdout",
     "output_type": "stream",
     "text": [
      "Fitting 10 folds for each of 68 candidates, totalling 680 fits\n"
     ]
    }
   ],
   "source": [
    "X_tr = X_train.iloc[:, 0:3] # Price Volume SMA\n",
    "X_tst = X_test.iloc[:, 0:3]\n",
    "\n",
    "TA_results = hyper_tuning_SVM(X_tr, y_train, X_tst, y_test, param_grid)"
   ]
  },
  {
   "cell_type": "code",
   "execution_count": 109,
   "id": "f9d0f926",
   "metadata": {},
   "outputs": [
    {
     "name": "stdout",
     "output_type": "stream",
     "text": [
      "{'C': 100, 'gamma': 1, 'kernel': 'linear'}\n"
     ]
    }
   ],
   "source": [
    "print(TA_results['best_params'])"
   ]
  },
  {
   "cell_type": "code",
   "execution_count": 110,
   "id": "cc48d5cf",
   "metadata": {},
   "outputs": [
    {
     "name": "stdout",
     "output_type": "stream",
     "text": [
      "TA_train accuracy:  0.7064555420219245\n",
      "TA_train pr_re_auc:  0.7918654708632182\n",
      "\n",
      "\n",
      "TA_test accuracy:  0.6941747572815534\n",
      "TA_test pr_re_auc:  0.779491541911544\n"
     ]
    }
   ],
   "source": [
    "TA_train_accuracy = TA_results['train_acc']\n",
    "print('TA_train accuracy: ', TA_train_accuracy)\n",
    "TA_train_pr_re_auc = TA_results['train_pr_re_auc']\n",
    "print('TA_train pr_re_auc: ', TA_train_pr_re_auc)\n",
    "\n",
    "print('\\n')\n",
    "\n",
    "TA_test_accuracy = TA_results['test_acc']\n",
    "print('TA_test accuracy: ',TA_test_accuracy)\n",
    "TA_test_pr_re_auc = TA_results['test_pr_re_auc']\n",
    "print('TA_test pr_re_auc: ', TA_test_pr_re_auc)"
   ]
  },
  {
   "cell_type": "code",
   "execution_count": 111,
   "id": "57b1725e",
   "metadata": {},
   "outputs": [
    {
     "data": {
      "image/png": "[encoded data removed]",
      "text/plain": [
       "<Figure size 360x216 with 2 Axes>"
      ]
     },
     "metadata": {
      "needs_background": "light"
     },
     "output_type": "display_data"
    }
   ],
   "source": [
    "print_cm(TA_results['confusion_matrix'])"
   ]
  },
  {
   "cell_type": "markdown",
   "id": "e4623f3d",
   "metadata": {},
   "source": [
    "Unsurprisingly, TA performs rather well (potential leakage + there is a lot of research showing TA's effectivenes)."
   ]
  },
  {
   "cell_type": "markdown",
   "id": "5ee33306",
   "metadata": {},
   "source": [
    "### 3.0.1.1 Accuracy Confidence Interval\n",
    "\n",
    "Using bootstraping procedure to test our best found parameters and paper's"
   ]
  },
  {
   "cell_type": "code",
   "execution_count": 112,
   "id": "0a22a80a",
   "metadata": {},
   "outputs": [],
   "source": [
    "svm_params = TA_results['best_params']"
   ]
  },
  {
   "cell_type": "code",
   "execution_count": 113,
   "id": "7ccfd460",
   "metadata": {},
   "outputs": [
    {
     "name": "stdout",
     "output_type": "stream",
     "text": [
      "900\r"
     ]
    }
   ],
   "source": [
    "boot_results_ta = bootstrap_ci(boot_n_iters, svm_params, data.drop('sentiment', axis = 1), \n",
    "                               updates_every = updates_every)"
   ]
  },
  {
   "cell_type": "code",
   "execution_count": 114,
   "id": "ddf0131a",
   "metadata": {},
   "outputs": [
    {
     "data": {
      "image/png": "[encoded data removed]",
      "text/plain": [
       "<Figure size 1080x216 with 2 Axes>"
      ]
     },
     "metadata": {
      "needs_background": "light"
     },
     "output_type": "display_data"
    }
   ],
   "source": [
    "# plot scores and confidence intervals\n",
    "plot_scores(boot_results_ta)"
   ]
  },
  {
   "cell_type": "markdown",
   "id": "38b54e5e",
   "metadata": {},
   "source": [
    "Author's reported TA's precision recall auc is 0.71, which is outside of the confidence interval that we estimated. This could potentially be a sample selection bias on the part of the author. He reports a point estimate without providing a range of suitable values. Therefore, it could be the case that his particular model's precision recall auc score was outside our 95% CI interval."
   ]
  },
  {
   "cell_type": "markdown",
   "id": "63a67167",
   "metadata": {},
   "source": [
    "### 3.0.2 Baseline News - SVM Model"
   ]
  },
  {
   "cell_type": "code",
   "execution_count": 115,
   "id": "73d62647",
   "metadata": {},
   "outputs": [
    {
     "data": {
      "text/plain": [
       "Index(['Price', 'Volume', 'SMA', 'sentiment'], dtype='object')"
      ]
     },
     "execution_count": 115,
     "metadata": {},
     "output_type": "execute_result"
    }
   ],
   "source": [
    "X.columns"
   ]
  },
  {
   "cell_type": "code",
   "execution_count": 116,
   "id": "ee89353e",
   "metadata": {},
   "outputs": [
    {
     "name": "stdout",
     "output_type": "stream",
     "text": [
      "Fitting 10 folds for each of 68 candidates, totalling 680 fits\n"
     ]
    }
   ],
   "source": [
    "X_tr = X_train.iloc[:, 3].values.reshape(-1, 1) # just the sentiment\n",
    "X_tst = X_test.iloc[:, 3].values.reshape(-1, 1)\n",
    "\n",
    "news_results = hyper_tuning_SVM(X_tr, y_train, X_tst, y_test, param_grid)"
   ]
  },
  {
   "cell_type": "code",
   "execution_count": 117,
   "id": "1b928ada",
   "metadata": {},
   "outputs": [
    {
     "name": "stdout",
     "output_type": "stream",
     "text": [
      "{'C': 1, 'gamma': 0.01, 'kernel': 'rbf'}\n"
     ]
    }
   ],
   "source": [
    "print(news_results['best_params'])"
   ]
  },
  {
   "cell_type": "code",
   "execution_count": 118,
   "id": "6ba0c1c3",
   "metadata": {},
   "outputs": [
    {
     "name": "stdout",
     "output_type": "stream",
     "text": [
      "news_train accuracy:  0.5651644336175395\n",
      "news_train pr_re_auc:  0.6291176584286152\n",
      "\n",
      "\n",
      "news_test accuracy:  0.5485436893203883\n",
      "news_test pr_re_auc:  0.650912516036243\n"
     ]
    }
   ],
   "source": [
    "news_train_accuracy = news_results['train_acc']\n",
    "print('news_train accuracy: ', news_train_accuracy)\n",
    "news_train_pr_re_auc = news_results['train_pr_re_auc']\n",
    "print('news_train pr_re_auc: ', news_train_pr_re_auc)\n",
    "\n",
    "print('\\n')\n",
    "\n",
    "news_test_accuracy = news_results['test_acc']\n",
    "print('news_test accuracy: ', news_test_accuracy)\n",
    "news_test_pr_re_auc = news_results['test_pr_re_auc']\n",
    "print('news_test pr_re_auc: ', news_test_pr_re_auc)"
   ]
  },
  {
   "cell_type": "code",
   "execution_count": 119,
   "id": "c3a14e9e",
   "metadata": {},
   "outputs": [
    {
     "data": {
      "image/png": "[encoded data removed]",
      "text/plain": [
       "<Figure size 360x216 with 2 Axes>"
      ]
     },
     "metadata": {
      "needs_background": "light"
     },
     "output_type": "display_data"
    }
   ],
   "source": [
    "print_cm(news_results['confusion_matrix'])"
   ]
  },
  {
   "cell_type": "markdown",
   "id": "12f325dd",
   "metadata": {},
   "source": [
    "Rahter poor performance on the key independent variable. The paper on reports the misleading precision recall auc score. The confusion matrix above tells us that news sentiment of the financial and business related sections perform mildly better than a simple coin toss."
   ]
  },
  {
   "cell_type": "markdown",
   "id": "69b3cc7a",
   "metadata": {},
   "source": [
    "### 3.0.2.1 Accuracy Confidence Interval\n",
    "\n",
    "Using bootstraping procedure to test our best found parameters for the News only model"
   ]
  },
  {
   "cell_type": "code",
   "execution_count": 120,
   "id": "76e42475",
   "metadata": {},
   "outputs": [],
   "source": [
    "svm_params = news_results['best_params']"
   ]
  },
  {
   "cell_type": "code",
   "execution_count": 121,
   "id": "1f1d01bb",
   "metadata": {},
   "outputs": [
    {
     "name": "stdout",
     "output_type": "stream",
     "text": [
      "900\r"
     ]
    }
   ],
   "source": [
    "boot_results_news = bootstrap_ci(boot_n_iters, svm_params, data.drop(data.columns[0:3].values, axis = 1),\n",
    "                                 updates_every = updates_every)"
   ]
  },
  {
   "cell_type": "code",
   "execution_count": 122,
   "id": "13824623",
   "metadata": {},
   "outputs": [
    {
     "data": {
      "image/png": "[encoded data removed]",
      "text/plain": [
       "<Figure size 1080x216 with 2 Axes>"
      ]
     },
     "metadata": {
      "needs_background": "light"
     },
     "output_type": "display_data"
    }
   ],
   "source": [
    "# plot scores and confidence intervals\n",
    "plot_scores(boot_results_news)"
   ]
  },
  {
   "cell_type": "markdown",
   "id": "80c5b129",
   "metadata": {},
   "source": [
    "From the above plots, technically, we cannot reject the null hypothesis that this is purely random (50% accuracy). And yes, the author's TextBlob precision recall auc (p.23) is within the confidence intervall that we obtained."
   ]
  },
  {
   "cell_type": "markdown",
   "id": "0c16cd86",
   "metadata": {},
   "source": [
    "### 3.1 News (fin + bus) + TA - SVM Model\n",
    "\n",
    "Using paper's best parameters"
   ]
  },
  {
   "cell_type": "code",
   "execution_count": 123,
   "id": "9632cca1",
   "metadata": {},
   "outputs": [
    {
     "name": "stdout",
     "output_type": "stream",
     "text": [
      "train accuracy:  0.6674786845310596\n",
      "train auc precision recall:  0.7809971643746755\n",
      "\n",
      "\n",
      "test accuracy:  0.6650485436893204\n",
      "train auc precision recall:  0.7782718522688965\n"
     ]
    },
    {
     "data": {
      "image/png": "[encoded data removed]",
      "text/plain": [
       "<Figure size 360x216 with 2 Axes>"
      ]
     },
     "metadata": {
      "needs_background": "light"
     },
     "output_type": "display_data"
    }
   ],
   "source": [
    "train_scaler = StandardScaler()\n",
    "train_scaler.fit(X_train)\n",
    "\n",
    "X_train_sc = train_scaler.transform(X_train)\n",
    "X_test_sc = train_scaler.transform(X_test)\n",
    "\n",
    "clf = svm.SVC(kernel = 'rbf', C = 100, gamma = 0.01, class_weight = balance)\n",
    "clf.fit(X_train_sc, y_train.values.ravel())\n",
    "\n",
    "y_pred = clf.predict(X_test_sc)\n",
    "cm=confusion_matrix(y_test,y_pred)\n",
    "cm = cm / cm.sum(axis=1)[:, None] * 100\n",
    "\n",
    "print_cm(cm)\n",
    "\n",
    "train_accuracy = accuracy_score(y_train,clf.predict(X_train_sc))\n",
    "print('train accuracy: ', train_accuracy)\n",
    "print('train auc precision recall: ', custom_pr_re_scorer(clf, X_train_sc, y_train))\n",
    "\n",
    "print('\\n')\n",
    "\n",
    "test_accuracy = accuracy_score(y_test,clf.predict(X_test_sc))\n",
    "print('test accuracy: ', test_accuracy)\n",
    "print('train auc precision recall: ', custom_pr_re_scorer(clf, X_test_sc, y_test))"
   ]
  },
  {
   "cell_type": "markdown",
   "id": "afb36bff",
   "metadata": {},
   "source": [
    "### 3.1.1 Hyperparameter optimization (4.2.3)"
   ]
  },
  {
   "cell_type": "code",
   "execution_count": 124,
   "id": "1113321e",
   "metadata": {},
   "outputs": [
    {
     "name": "stdout",
     "output_type": "stream",
     "text": [
      "Fitting 10 folds for each of 68 candidates, totalling 680 fits\n"
     ]
    }
   ],
   "source": [
    "X_tr = X_train # all columns\n",
    "X_tst = X_test\n",
    "\n",
    "ta_news_results = hyper_tuning_SVM(X_tr, y_train, X_tst, y_test, param_grid, scaling = True)"
   ]
  },
  {
   "cell_type": "code",
   "execution_count": 125,
   "id": "7ed30dfd",
   "metadata": {},
   "outputs": [
    {
     "name": "stdout",
     "output_type": "stream",
     "text": [
      "{'C': 1000, 'gamma': 1, 'kernel': 'linear'}\n"
     ]
    }
   ],
   "source": [
    "print(ta_news_results['best_params'])"
   ]
  },
  {
   "cell_type": "code",
   "execution_count": 126,
   "id": "3e95a00e",
   "metadata": {},
   "outputs": [
    {
     "name": "stdout",
     "output_type": "stream",
     "text": [
      "ta_news_train accuracy:  0.6894031668696712\n",
      "ta_news_train pr_re_auc:  0.7949567258654331\n",
      "\n",
      "\n",
      "ta_news_test accuracy:  0.6796116504854369\n",
      "ta_news_test pr_re_auc:  0.7729859252761531\n"
     ]
    }
   ],
   "source": [
    "ta_news_train_accuracy = ta_news_results['train_acc']\n",
    "print('ta_news_train accuracy: ', ta_news_train_accuracy)\n",
    "ta_news_train_pr_re_auc = ta_news_results['train_pr_re_auc']\n",
    "print('ta_news_train pr_re_auc: ', ta_news_train_pr_re_auc)\n",
    "\n",
    "print('\\n')\n",
    "\n",
    "ta_news_test_accuracy = ta_news_results['test_acc']\n",
    "print('ta_news_test accuracy: ', ta_news_test_accuracy)\n",
    "ta_news_test_pr_re_auc = ta_news_results['test_pr_re_auc']\n",
    "print('ta_news_test pr_re_auc: ', ta_news_test_pr_re_auc)"
   ]
  },
  {
   "cell_type": "code",
   "execution_count": 127,
   "id": "480d4637",
   "metadata": {},
   "outputs": [
    {
     "data": {
      "image/png": "[encoded data removed]",
      "text/plain": [
       "<Figure size 360x216 with 2 Axes>"
      ]
     },
     "metadata": {
      "needs_background": "light"
     },
     "output_type": "display_data"
    }
   ],
   "source": [
    "print_cm(ta_news_results['confusion_matrix'])"
   ]
  },
  {
   "cell_type": "markdown",
   "id": "28530dbc",
   "metadata": {},
   "source": [
    "Adding news information seemed to only increase the bias and therefore we see a worsening of the results from the TA only model performance."
   ]
  },
  {
   "cell_type": "markdown",
   "id": "236117b1",
   "metadata": {},
   "source": [
    "### 3.1.2 Accuracy Confidence Interval\n",
    "\n",
    "Using bootstraping procedure to test our best found parameters for the News + TA model"
   ]
  },
  {
   "cell_type": "code",
   "execution_count": 128,
   "id": "fd657490",
   "metadata": {},
   "outputs": [],
   "source": [
    "svm_params = ta_news_results['best_params']"
   ]
  },
  {
   "cell_type": "code",
   "execution_count": 129,
   "id": "21912fbd",
   "metadata": {},
   "outputs": [
    {
     "name": "stdout",
     "output_type": "stream",
     "text": [
      "900\r"
     ]
    }
   ],
   "source": [
    "boot_results_ta_news = bootstrap_ci(boot_n_iters, svm_params, data,\n",
    "                                 updates_every = updates_every)"
   ]
  },
  {
   "cell_type": "code",
   "execution_count": 130,
   "id": "68f02b6f",
   "metadata": {},
   "outputs": [
    {
     "data": {
      "image/png": "[encoded data removed]",
      "text/plain": [
       "<Figure size 1080x216 with 2 Axes>"
      ]
     },
     "metadata": {
      "needs_background": "light"
     },
     "output_type": "display_data"
    }
   ],
   "source": [
    "# plot scores and confidence intervals\n",
    "plot_scores(boot_results_ta_news)"
   ]
  },
  {
   "cell_type": "markdown",
   "id": "e30126ff",
   "metadata": {},
   "source": [
    "Using paper's best parameters"
   ]
  },
  {
   "cell_type": "code",
   "execution_count": 131,
   "id": "ab9a5044",
   "metadata": {},
   "outputs": [],
   "source": [
    "svm_params = {'kernel': 'rbf', 'C': 100, 'gamma': 0.01}"
   ]
  },
  {
   "cell_type": "code",
   "execution_count": 132,
   "id": "86aba36c",
   "metadata": {},
   "outputs": [
    {
     "name": "stdout",
     "output_type": "stream",
     "text": [
      "900\r"
     ]
    }
   ],
   "source": [
    "boot_results_ta_news_paper = bootstrap_ci(boot_n_iters, svm_params, data,\n",
    "                                 updates_every = updates_every)"
   ]
  },
  {
   "cell_type": "code",
   "execution_count": 133,
   "id": "828e85fa",
   "metadata": {},
   "outputs": [
    {
     "data": {
      "image/png": "[encoded data removed]",
      "text/plain": [
       "<Figure size 1080x216 with 2 Axes>"
      ]
     },
     "metadata": {
      "needs_background": "light"
     },
     "output_type": "display_data"
    }
   ],
   "source": [
    "# plot scores and confidence intervals\n",
    "plot_scores(boot_results_ta_news_paper)"
   ]
  },
  {
   "cell_type": "markdown",
   "id": "5a089fae",
   "metadata": {},
   "source": [
    "Author's reported point estimate of 0.75 is within our 95% CI interval for the precision recall auc."
   ]
  },
  {
   "cell_type": "markdown",
   "id": "00356d24",
   "metadata": {},
   "source": [
    "## 4. Results\n",
    "In this section we compile all the results from the modelling section into one visual and report our findings. Although the author doesn't explicitly state that he evaluated all his models on the test dataset - we are going to assume that the results on p. 23 and p. 24 were obtained from not the training, but the test dataset."
   ]
  },
  {
   "cell_type": "code",
   "execution_count": 134,
   "id": "93b7f882",
   "metadata": {},
   "outputs": [],
   "source": [
    "def round_list(l):\n",
    "    return str(round(l[0], 3)) + ' - ' + str(round(l[1], 3))"
   ]
  },
  {
   "cell_type": "code",
   "execution_count": 135,
   "id": "5d2d5ca3",
   "metadata": {},
   "outputs": [],
   "source": [
    "results_df = pd.DataFrame(data = {\n",
    "                        'accuracy': [round(TA_test_accuracy, 3), round(news_test_accuracy, 3), round(ta_news_test_accuracy, 3)],\n",
    "                        'accuracy 95% CI': [round_list(boot_results_ta['accuracy_conf_int']), \n",
    "                                            round_list(boot_results_news['accuracy_conf_int']), \n",
    "                                            round_list(boot_results_ta_news['accuracy_conf_int']),\n",
    "                                           ],\n",
    "                        'precision_recall_auc':  [round(TA_test_pr_re_auc, 3), round(news_test_pr_re_auc, 3), round(ta_news_test_pr_re_auc, 3)],\n",
    "                        'precision_recall_auc 95% CI': [round_list(boot_results_ta['precision_recall_auc_conf_int']), \n",
    "                                            round_list(boot_results_news['precision_recall_auc_conf_int']), \n",
    "                                            round_list(boot_results_ta_news['precision_recall_auc_conf_int']),\n",
    "                                           ],                                }, \n",
    "                          index = ['TA - SVM', 'News - SVM', 'News + TA - SVM'])"
   ]
  },
  {
   "cell_type": "code",
   "execution_count": 136,
   "id": "b6288661",
   "metadata": {},
   "outputs": [
    {
     "data": {
      "text/html": [
       "<div>\n",
       "<style scoped>\n",
       "    .dataframe tbody tr th:only-of-type {\n",
       "        vertical-align: middle;\n",
       "    }\n",
       "\n",
       "    .dataframe tbody tr th {\n",
       "        vertical-align: top;\n",
       "    }\n",
       "\n",
       "    .dataframe thead th {\n",
       "        text-align: right;\n",
       "    }\n",
       "</style>\n",
       "<table border=\"1\" class=\"dataframe\">\n",
       "  <thead>\n",
       "    <tr style=\"text-align: right;\">\n",
       "      <th></th>\n",
       "      <th>accuracy</th>\n",
       "      <th>accuracy 95% CI</th>\n",
       "      <th>precision_recall_auc</th>\n",
       "      <th>precision_recall_auc 95% CI</th>\n",
       "    </tr>\n",
       "  </thead>\n",
       "  <tbody>\n",
       "    <tr>\n",
       "      <th>TA - SVM</th>\n",
       "      <td>0.694</td>\n",
       "      <td>0.652 - 0.721</td>\n",
       "      <td>0.779</td>\n",
       "      <td>0.751 - 0.812</td>\n",
       "    </tr>\n",
       "    <tr>\n",
       "      <th>News - SVM</th>\n",
       "      <td>0.549</td>\n",
       "      <td>0.523 - 0.583</td>\n",
       "      <td>0.651</td>\n",
       "      <td>0.598 - 0.67</td>\n",
       "    </tr>\n",
       "    <tr>\n",
       "      <th>News + TA - SVM</th>\n",
       "      <td>0.680</td>\n",
       "      <td>0.648 - 0.711</td>\n",
       "      <td>0.773</td>\n",
       "      <td>0.752 - 0.81</td>\n",
       "    </tr>\n",
       "  </tbody>\n",
       "</table>\n",
       "</div>"
      ],
      "text/plain": [
       "                 accuracy accuracy 95% CI  precision_recall_auc  \\\n",
       "TA - SVM            0.694   0.652 - 0.721                 0.779   \n",
       "News - SVM          0.549   0.523 - 0.583                 0.651   \n",
       "News + TA - SVM     0.680   0.648 - 0.711                 0.773   \n",
       "\n",
       "                precision_recall_auc 95% CI  \n",
       "TA - SVM                      0.751 - 0.812  \n",
       "News - SVM                     0.598 - 0.67  \n",
       "News + TA - SVM                0.752 - 0.81  "
      ]
     },
     "execution_count": 136,
     "metadata": {},
     "output_type": "execute_result"
    }
   ],
   "source": [
    "results_df"
   ]
  },
  {
   "cell_type": "markdown",
   "id": "926b8fb4",
   "metadata": {},
   "source": [
    "Finally, let's compare two models: TA-only and News + TA. Again we are going to see if the difference in their accuracy or PR-AUC score is not 0."
   ]
  },
  {
   "cell_type": "code",
   "execution_count": 137,
   "id": "86b6b633",
   "metadata": {},
   "outputs": [],
   "source": [
    "svm_params_both = {\n",
    "    'ta_only': TA_results['best_params'],\n",
    "    'ta_news': ta_news_results['best_params']\n",
    "             }"
   ]
  },
  {
   "cell_type": "code",
   "execution_count": 138,
   "id": "da474850",
   "metadata": {},
   "outputs": [],
   "source": [
    "datam = {\n",
    "    'ta_only': data.drop(data.columns[3], axis = 1),\n",
    "    'ta_news': data\n",
    "    }"
   ]
  },
  {
   "cell_type": "code",
   "execution_count": 139,
   "id": "9dcf59cc",
   "metadata": {},
   "outputs": [
    {
     "data": {
      "text/plain": [
       "dict_keys(['ta_only', 'ta_news'])"
      ]
     },
     "execution_count": 139,
     "metadata": {},
     "output_type": "execute_result"
    }
   ],
   "source": [
    "datam.keys()"
   ]
  },
  {
   "cell_type": "code",
   "execution_count": 140,
   "id": "eb5169c3",
   "metadata": {},
   "outputs": [
    {
     "name": "stdout",
     "output_type": "stream",
     "text": [
      "900\r"
     ]
    }
   ],
   "source": [
    "# configure bootstrap\n",
    "n_size = int(len(data) * n_size_prop)\n",
    "# run bootstrap\n",
    "stats_pr_re_auc = list()\n",
    "stats_accuracy = list()\n",
    "for i in range(boot_n_iters):\n",
    "    # know where we are in the process\n",
    "    if i % updates_every == 0:\n",
    "        print(i, end='\\r', flush=True)\n",
    "    diff = {'ta_only': [], 'ta_news': []}\n",
    "    for which in ['ta_only', 'ta_news']:\n",
    "        selected_data = datam[which]\n",
    "        svm_params = svm_params_both[which]\n",
    "        # prepare train and test sets\n",
    "        train = resample(selected_data.values, n_samples=n_size, random_state = pseudo_random_numbers[i])\n",
    "        test = np.array([x for x in selected_data.values if x.tolist() not in train.tolist()])\n",
    "\n",
    "        # fit model\n",
    "        X_boot_tr = train[:,:-1]\n",
    "        y_boot_tr = train[:,-1]\n",
    "\n",
    "        X_boot_tst = test[:,:-1]\n",
    "        y_boot_tst = test[:,-1]\n",
    "\n",
    "        train_scaler = StandardScaler()\n",
    "        train_scaler.fit(X_boot_tr) \n",
    "\n",
    "        X_boot_tr_sc = train_scaler.transform(X_boot_tr)\n",
    "        X_boot_tst_sc = train_scaler.transform(X_boot_tst)\n",
    "\n",
    "\n",
    "        svm_model = svm.SVC(kernel = svm_params['kernel'], \n",
    "                            C = svm_params['C'], \n",
    "                            gamma = svm_params['gamma'], \n",
    "                            class_weight = balance,\n",
    "                           ) # class_weight = 'balanced'\n",
    "        svm_model.fit(X_boot_tr_sc, y_boot_tr)\n",
    "\n",
    "        # evaluate model\n",
    "        predictions = svm_model.predict(X_boot_tst_sc)\n",
    "        accuracy = accuracy_score(y_boot_tst, predictions)\n",
    "        pr_re_auc = custom_pr_re_scorer(svm_model, X_boot_tst_sc, y_boot_tst)\n",
    "        \n",
    "        diff[which] = [accuracy, pr_re_auc]\n",
    "    \n",
    "    stats_accuracy.append(diff['ta_only'][0] - diff['ta_news'][0])\n",
    "    stats_pr_re_auc.append(diff['ta_only'][1] - diff['ta_news'][1])\n",
    "\n",
    "\n",
    "# confidence intervals accuracy\n",
    "p = ((1.0-alpha)/2.0) * 100\n",
    "acc_lower = max(0.0, np.percentile(stats_accuracy, p))\n",
    "p = (alpha+((1.0-alpha)/2.0)) * 100\n",
    "acc_upper = min(1.0, np.percentile(stats_accuracy, p))\n",
    "\n",
    "# confidence intervals precision recall auc\n",
    "p = ((1.0-alpha)/2.0) * 100\n",
    "pr_re_auc_lower = max(0.0, np.percentile(stats_pr_re_auc, p))\n",
    "p = (alpha+((1.0-alpha)/2.0)) * 100\n",
    "pr_re_auc_upper = min(1.0, np.percentile(stats_pr_re_auc, p))\n",
    "\n",
    "results = {'accuracy_stats': stats_accuracy, 'accuracy_conf_int': [acc_lower, acc_upper],\n",
    "           'precision_recall_auc_stats': stats_pr_re_auc, 'precision_recall_auc_conf_int': [pr_re_auc_lower, pr_re_auc_upper],\n",
    "          }"
   ]
  },
  {
   "cell_type": "code",
   "execution_count": 141,
   "id": "4aebab98",
   "metadata": {},
   "outputs": [
    {
     "data": {
      "image/png": "[encoded data removed]",
      "text/plain": [
       "<Figure size 1080x216 with 2 Axes>"
      ]
     },
     "metadata": {
      "needs_background": "light"
     },
     "output_type": "display_data"
    }
   ],
   "source": [
    "plot_scores(results)"
   ]
  },
  {
   "cell_type": "markdown",
   "id": "0bc6c860",
   "metadata": {},
   "source": [
    "## a. Appendix"
   ]
  },
  {
   "cell_type": "code",
   "execution_count": 142,
   "id": "b6b8adbe",
   "metadata": {},
   "outputs": [],
   "source": [
    "unique_sections = proc_news_df.section.unique().tolist()"
   ]
  },
  {
   "cell_type": "code",
   "execution_count": 144,
   "id": "4ab10e18",
   "metadata": {},
   "outputs": [],
   "source": [
    "proc_sections = [ 'Davos', # ->\n",
    " 'James Corden is the worst']"
   ]
  },
  {
   "cell_type": "code",
   "execution_count": null,
   "id": "e15e87db",
   "metadata": {},
   "outputs": [],
   "source": []
  }
 ],
 "metadata": {
  "kernelspec": {
   "display_name": "ml",
   "language": "python",
   "name": "ml"
  },
  "language_info": {
   "codemirror_mode": {
    "name": "ipython",
    "version": 3
   },
   "file_extension": ".py",
   "mimetype": "text/x-python",
   "name": "python",
   "nbconvert_exporter": "python",
   "pygments_lexer": "ipython3",
   "version": "3.10.4"
  }
 },
 "nbformat": 4,
 "nbformat_minor": 5
}
